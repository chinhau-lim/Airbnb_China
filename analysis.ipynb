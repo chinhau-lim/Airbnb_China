{
 "cells": [
  {
   "cell_type": "code",
   "execution_count": 1,
   "metadata": {},
   "outputs": [
    {
     "data": {
      "text/html": [
       "<script>\n",
       "code_show=true; \n",
       "function code_toggle() {\n",
       " if (code_show){\n",
       " $('div.input').hide();\n",
       " } else {\n",
       " $('div.input').show();\n",
       " }\n",
       " code_show = !code_show\n",
       "} \n",
       "$( document ).ready(code_toggle);\n",
       "</script>\n",
       "Click <a href=\"javascript:code_toggle()\">here</a> to toggle on/off the code."
      ],
      "text/plain": [
       "<IPython.core.display.HTML object>"
      ]
     },
     "execution_count": 1,
     "metadata": {},
     "output_type": "execute_result"
    }
   ],
   "source": [
    "from IPython.display import HTML\n",
    "\n",
    "HTML('''<script>\n",
    "code_show=true; \n",
    "function code_toggle() {\n",
    " if (code_show){\n",
    " $('div.input').hide();\n",
    " } else {\n",
    " $('div.input').show();\n",
    " }\n",
    " code_show = !code_show\n",
    "} \n",
    "$( document ).ready(code_toggle);\n",
    "</script>\n",
    "Click <a href=\"javascript:code_toggle()\">here</a> to toggle on/off the code.''')\n"
   ]
  },
  {
   "cell_type": "markdown",
   "metadata": {},
   "source": [
    "## Project Overview"
   ]
  },
  {
   "cell_type": "markdown",
   "metadata": {},
   "source": [
    "- As a huge fan of Airbnb, I thought it would be a great idea for me to do a data science related project while attempting to understand how Airbnb is performing in their quest of conquering the China market.\n",
    "\n",
    "- Luckily, Airbnb releases most of its data on their website - insideairbnb.com, where anyone can have access to their data."
   ]
  },
  {
   "cell_type": "markdown",
   "metadata": {},
   "source": [
    "## China Tourism Statistics Overview"
   ]
  },
  {
   "cell_type": "markdown",
   "metadata": {},
   "source": [
    "![alt text](china_tourist.png \"China_Tourist_Analysis\")\n",
    "\n",
    "\n",
    "- Inbound tourism accounts for USD 127.1B\n",
    "- Domestic tourism accounts for USD 733.3B\n",
    "- A ratio of 1: 5.77 in 2018 according to 2018 China Tourism Statistics \n",
    "<br><br>\n",
    "\n",
    "<font size=\"3\"> Considering how huge the differences are, it is not surprising that Airbnb China has decided to focus more on localization - establishing brand awareness, building Airbnb community, focusing more on security and trust, and etc.  <br><br>"
   ]
  },
  {
   "cell_type": "markdown",
   "metadata": {},
   "source": [
    "## Import Libraries & Datasets"
   ]
  },
  {
   "cell_type": "code",
   "execution_count": 2,
   "metadata": {},
   "outputs": [],
   "source": [
    "# import libraries\n",
    "%matplotlib inline \n",
    "\n",
    "import re\n",
    "import numpy as np\n",
    "import pandas as pd\n",
    "import seaborn as sns\n",
    "import pandas_profiling\n",
    "import matplotlib.pyplot as plt"
   ]
  },
  {
   "cell_type": "code",
   "execution_count": 3,
   "metadata": {},
   "outputs": [],
   "source": [
    "# import datasets\n",
    "\n",
    "beijing_reviews   = pd.read_csv('beijing_reviews.csv')\n",
    "hongkong_reviews  = pd.read_csv('hongkong_reviews.csv')\n",
    "singapore_reviews = pd.read_csv('singapore_reviews.csv')\n",
    "taipei_reviews    = pd.read_csv('taipei_reviews.csv')\n",
    "tokyo_reviews     = pd.read_csv('tokyo_reviews.csv')"
   ]
  },
  {
   "cell_type": "markdown",
   "metadata": {},
   "source": [
    "## Inspect Datasets"
   ]
  },
  {
   "cell_type": "code",
   "execution_count": 4,
   "metadata": {},
   "outputs": [
    {
     "name": "stdout",
     "output_type": "stream",
     "text": [
      "<class 'pandas.core.frame.DataFrame'>\n",
      "RangeIndex: 294003 entries, 0 to 294002\n",
      "Data columns (total 6 columns):\n",
      "listing_id       294003 non-null int64\n",
      "id               294003 non-null int64\n",
      "date             294003 non-null object\n",
      "reviewer_id      294003 non-null int64\n",
      "reviewer_name    293984 non-null object\n",
      "comments         293815 non-null object\n",
      "dtypes: int64(3), object(3)\n",
      "memory usage: 13.5+ MB\n"
     ]
    }
   ],
   "source": [
    "beijing_reviews.info()"
   ]
  },
  {
   "cell_type": "code",
   "execution_count": 5,
   "metadata": {},
   "outputs": [
    {
     "data": {
      "text/html": [
       "<div>\n",
       "<style scoped>\n",
       "    .dataframe tbody tr th:only-of-type {\n",
       "        vertical-align: middle;\n",
       "    }\n",
       "\n",
       "    .dataframe tbody tr th {\n",
       "        vertical-align: top;\n",
       "    }\n",
       "\n",
       "    .dataframe thead th {\n",
       "        text-align: right;\n",
       "    }\n",
       "</style>\n",
       "<table border=\"1\" class=\"dataframe\">\n",
       "  <thead>\n",
       "    <tr style=\"text-align: right;\">\n",
       "      <th></th>\n",
       "      <th>listing_id</th>\n",
       "      <th>id</th>\n",
       "      <th>date</th>\n",
       "      <th>reviewer_id</th>\n",
       "      <th>reviewer_name</th>\n",
       "      <th>comments</th>\n",
       "    </tr>\n",
       "  </thead>\n",
       "  <tbody>\n",
       "    <tr>\n",
       "      <th>293988</th>\n",
       "      <td>40270020</td>\n",
       "      <td>567560470</td>\n",
       "      <td>2019-11-22</td>\n",
       "      <td>238667670</td>\n",
       "      <td>周慧娟</td>\n",
       "      <td>房子很温馨,总体感觉非常棒,离地铁很近,马路对面就是爱琴海,屋内设施很有品质,看的出是很用心...</td>\n",
       "    </tr>\n",
       "    <tr>\n",
       "      <th>293989</th>\n",
       "      <td>40270020</td>\n",
       "      <td>567565895</td>\n",
       "      <td>2019-11-22</td>\n",
       "      <td>271787704</td>\n",
       "      <td>元吉</td>\n",
       "      <td>这是我第二次过来住了,经常来出差,房子和上次来住的时候一样干净床单被罩都是新换的,特别喜欢房...</td>\n",
       "    </tr>\n",
       "    <tr>\n",
       "      <th>293990</th>\n",
       "      <td>40270020</td>\n",
       "      <td>567565906</td>\n",
       "      <td>2019-11-22</td>\n",
       "      <td>268952012</td>\n",
       "      <td>红梅</td>\n",
       "      <td>来探望高中闺蜜 闺蜜说房间太好赖着不走 吼 结果我们仨挤了一宿 ｡｡｡还好床够大 @@离中医...</td>\n",
       "    </tr>\n",
       "    <tr>\n",
       "      <th>293991</th>\n",
       "      <td>40273390</td>\n",
       "      <td>567559337</td>\n",
       "      <td>2019-11-22</td>\n",
       "      <td>311344793</td>\n",
       "      <td>萌</td>\n",
       "      <td>非常棒的入住体验~家人一直想住四合院体验下,这次出来玩在airbnb上对比了北京很多家这种小...</td>\n",
       "    </tr>\n",
       "    <tr>\n",
       "      <th>293992</th>\n",
       "      <td>40276581</td>\n",
       "      <td>567919194</td>\n",
       "      <td>2019-11-23</td>\n",
       "      <td>311585870</td>\n",
       "      <td>在路上</td>\n",
       "      <td>整体很不错,房间很暖和,晚上坐在窗边的沙发上观看望京soho是一种享受,房东小姐姐也很热心,...</td>\n",
       "    </tr>\n",
       "    <tr>\n",
       "      <th>293993</th>\n",
       "      <td>40278130</td>\n",
       "      <td>567556919</td>\n",
       "      <td>2019-11-22</td>\n",
       "      <td>119915877</td>\n",
       "      <td>晓月</td>\n",
       "      <td>非常棒 房子很舒服 设计感强 干净 舒适 位置也非常方便出行 强烈推荐啊!</td>\n",
       "    </tr>\n",
       "    <tr>\n",
       "      <th>293994</th>\n",
       "      <td>40279657</td>\n",
       "      <td>567568262</td>\n",
       "      <td>2019-11-22</td>\n",
       "      <td>271043957</td>\n",
       "      <td>牡丹</td>\n",
       "      <td>简直超级棒!!相信我这房子比照片还好~超温馨超干净 房东超温柔~简直太好了啊 以后首选!</td>\n",
       "    </tr>\n",
       "    <tr>\n",
       "      <th>293995</th>\n",
       "      <td>40279657</td>\n",
       "      <td>567946908</td>\n",
       "      <td>2019-11-23</td>\n",
       "      <td>143661385</td>\n",
       "      <td>书帆</td>\n",
       "      <td>很不错的一次入住体验</td>\n",
       "    </tr>\n",
       "    <tr>\n",
       "      <th>293996</th>\n",
       "      <td>40280365</td>\n",
       "      <td>567952989</td>\n",
       "      <td>2019-11-23</td>\n",
       "      <td>258360534</td>\n",
       "      <td>明</td>\n",
       "      <td>真不错,布置得很好,真的是超出预期,来了才是真切的感受到,房间环境优美,住的很满意!</td>\n",
       "    </tr>\n",
       "    <tr>\n",
       "      <th>293997</th>\n",
       "      <td>40280840</td>\n",
       "      <td>567543915</td>\n",
       "      <td>2019-11-22</td>\n",
       "      <td>59730583</td>\n",
       "      <td>Frank</td>\n",
       "      <td>很舒服的房间,地理位置也好,房东人也很好,下次还会住这里</td>\n",
       "    </tr>\n",
       "    <tr>\n",
       "      <th>293998</th>\n",
       "      <td>40288098</td>\n",
       "      <td>567992455</td>\n",
       "      <td>2019-11-23</td>\n",
       "      <td>308692031</td>\n",
       "      <td>Qq</td>\n",
       "      <td>房间整洁卫生｡设施齐全｡</td>\n",
       "    </tr>\n",
       "    <tr>\n",
       "      <th>293999</th>\n",
       "      <td>40290957</td>\n",
       "      <td>567527438</td>\n",
       "      <td>2019-11-22</td>\n",
       "      <td>311305649</td>\n",
       "      <td>牛娟</td>\n",
       "      <td>来北京订的第一家民宿,这家非常棒,我的感觉还是没有错的,这种风格挺适合出差人士的,房间味道清...</td>\n",
       "    </tr>\n",
       "    <tr>\n",
       "      <th>294000</th>\n",
       "      <td>40295219</td>\n",
       "      <td>567917405</td>\n",
       "      <td>2019-11-23</td>\n",
       "      <td>198311662</td>\n",
       "      <td>Qingqing</td>\n",
       "      <td>房东人很好 房间也很干净 体验佳</td>\n",
       "    </tr>\n",
       "    <tr>\n",
       "      <th>294001</th>\n",
       "      <td>40303435</td>\n",
       "      <td>568098248</td>\n",
       "      <td>2019-11-24</td>\n",
       "      <td>244665145</td>\n",
       "      <td>卿</td>\n",
       "      <td>The host canceled this reservation 26 days bef...</td>\n",
       "    </tr>\n",
       "    <tr>\n",
       "      <th>294002</th>\n",
       "      <td>40316185</td>\n",
       "      <td>568320182</td>\n",
       "      <td>2019-11-24</td>\n",
       "      <td>311693383</td>\n",
       "      <td>梁</td>\n",
       "      <td>The host canceled this reservation 63 days bef...</td>\n",
       "    </tr>\n",
       "  </tbody>\n",
       "</table>\n",
       "</div>"
      ],
      "text/plain": [
       "        listing_id         id        date  reviewer_id reviewer_name  \\\n",
       "293988    40270020  567560470  2019-11-22    238667670           周慧娟   \n",
       "293989    40270020  567565895  2019-11-22    271787704            元吉   \n",
       "293990    40270020  567565906  2019-11-22    268952012            红梅   \n",
       "293991    40273390  567559337  2019-11-22    311344793             萌   \n",
       "293992    40276581  567919194  2019-11-23    311585870           在路上   \n",
       "293993    40278130  567556919  2019-11-22    119915877            晓月   \n",
       "293994    40279657  567568262  2019-11-22    271043957            牡丹   \n",
       "293995    40279657  567946908  2019-11-23    143661385            书帆   \n",
       "293996    40280365  567952989  2019-11-23    258360534             明   \n",
       "293997    40280840  567543915  2019-11-22     59730583         Frank   \n",
       "293998    40288098  567992455  2019-11-23    308692031            Qq   \n",
       "293999    40290957  567527438  2019-11-22    311305649            牛娟   \n",
       "294000    40295219  567917405  2019-11-23    198311662      Qingqing   \n",
       "294001    40303435  568098248  2019-11-24    244665145             卿   \n",
       "294002    40316185  568320182  2019-11-24    311693383             梁   \n",
       "\n",
       "                                                 comments  \n",
       "293988  房子很温馨,总体感觉非常棒,离地铁很近,马路对面就是爱琴海,屋内设施很有品质,看的出是很用心...  \n",
       "293989  这是我第二次过来住了,经常来出差,房子和上次来住的时候一样干净床单被罩都是新换的,特别喜欢房...  \n",
       "293990  来探望高中闺蜜 闺蜜说房间太好赖着不走 吼 结果我们仨挤了一宿 ｡｡｡还好床够大 @@离中医...  \n",
       "293991  非常棒的入住体验~家人一直想住四合院体验下,这次出来玩在airbnb上对比了北京很多家这种小...  \n",
       "293992  整体很不错,房间很暖和,晚上坐在窗边的沙发上观看望京soho是一种享受,房东小姐姐也很热心,...  \n",
       "293993              非常棒 房子很舒服 设计感强 干净 舒适 位置也非常方便出行 强烈推荐啊!  \n",
       "293994       简直超级棒!!相信我这房子比照片还好~超温馨超干净 房东超温柔~简直太好了啊 以后首选!  \n",
       "293995                                         很不错的一次入住体验  \n",
       "293996         真不错,布置得很好,真的是超出预期,来了才是真切的感受到,房间环境优美,住的很满意!  \n",
       "293997                       很舒服的房间,地理位置也好,房东人也很好,下次还会住这里  \n",
       "293998                                       房间整洁卫生｡设施齐全｡  \n",
       "293999  来北京订的第一家民宿,这家非常棒,我的感觉还是没有错的,这种风格挺适合出差人士的,房间味道清...  \n",
       "294000                                   房东人很好 房间也很干净 体验佳  \n",
       "294001  The host canceled this reservation 26 days bef...  \n",
       "294002  The host canceled this reservation 63 days bef...  "
      ]
     },
     "execution_count": 5,
     "metadata": {},
     "output_type": "execute_result"
    }
   ],
   "source": [
    "beijing_reviews.tail(15)"
   ]
  },
  {
   "cell_type": "code",
   "execution_count": 6,
   "metadata": {},
   "outputs": [],
   "source": [
    "#hongkong_reviews.info()\n",
    "#singapore_reviews.info()\n",
    "#taipei_reviews.info()\n",
    "#tokyo_reviews.info()"
   ]
  },
  {
   "cell_type": "markdown",
   "metadata": {},
   "source": [
    "## Task 1 - Inspect how much Airbnb China has grown (YoY)"
   ]
  },
  {
   "cell_type": "code",
   "execution_count": 7,
   "metadata": {},
   "outputs": [],
   "source": [
    "def clean_dataset(dataset):\n",
    "    '''Clean dataset and return two different dataframes.'''\n",
    "    \n",
    "    # drop null values (negligible)\n",
    "    dataset = dataset[dataset['comments'].notnull() & dataset['reviewer_name'].notnull()]\n",
    "    \n",
    "    # we only care about 2018 & 2019\n",
    "    dataset = dataset[dataset['date'] >= '2018-01-01']\n",
    "    dataset['year'] = pd.DatetimeIndex(dataset['date']).year\n",
    "    dataset['month'] = pd.DatetimeIndex(dataset['date']).month\n",
    "    dataset = dataset.sort_values(by=['date'], ascending=False)\n",
    "    \n",
    "    # Anomaly Comments: The host canceled this reservation {} days before...\n",
    "    dataset['anomaly'] = dataset.comments.str.find('The host canceled this reservation') # return index\n",
    "    dataset['anomaly'].replace({-1: 1}, inplace=True) # change -1 not found to 1\n",
    "    print(dataset['anomaly'].value_counts(normalize=True)) # just wanted to figure out what it looks like\n",
    "\n",
    "    dataset = dataset[dataset['anomaly'] != 0] # drop the anomal, insignificance\n",
    "    dataset = dataset.drop(columns=['anomaly'])\n",
    "    dataset = dataset.reset_index(drop=True)\n",
    "    \n",
    "    # return groupby dataset for the purpose of graph plotting\n",
    "    dataset_groupby = dataset.groupby(['year', 'month'])\n",
    "    dataset_groupby = dataset_groupby['comments'].count()\n",
    "    dataset_groupby = dataset_groupby.to_frame('count')\n",
    "    dataset_groupby.reset_index(inplace=True)\n",
    "    return dataset, dataset_groupby"
   ]
  },
  {
   "cell_type": "code",
   "execution_count": 8,
   "metadata": {},
   "outputs": [],
   "source": [
    "def plot_graph(dataset_groupby):\n",
    "    graph = sns.FacetGrid(dataset_groupby, col=\"year\", col_order=[2018, 2019], height=5.5, aspect=1)\n",
    "    def plot(*args,**kwargs):\n",
    "        kwargs[\"data\"].plot(kind=\"bar\", x=\"month\", y=\"count\", ax=plt.gca(), color=\"lightslategray\")\n",
    "    graph.map_dataframe(plot)\n",
    "    graph.set_xlabels('Months', fontsize=12, ha='center')\n",
    "    graph.set_ylabels('Comments Count', fontsize=12, ha='center')\n",
    "    graph.fig.suptitle('Comments Count by Months (2018 VS 2019)', fontsize=14, ha='center')\n",
    "    plt.subplots_adjust(top=0.89)\n",
    "    plt.savefig('comments.png')\n",
    "    plt.show()"
   ]
  },
  {
   "cell_type": "code",
   "execution_count": 9,
   "metadata": {},
   "outputs": [
    {
     "name": "stdout",
     "output_type": "stream",
     "text": [
      "Beijing\n",
      "1    0.990553\n",
      "0    0.009447\n",
      "Name: anomaly, dtype: float64\n",
      "Hong Kong\n",
      "1    0.98997\n",
      "0    0.01003\n",
      "Name: anomaly, dtype: float64\n",
      "Singapore\n",
      "1    0.990054\n",
      "0    0.009946\n",
      "Name: anomaly, dtype: float64\n",
      "Taipei\n",
      "1    0.997076\n",
      "0    0.002924\n",
      "Name: anomaly, dtype: float64\n",
      "Tokyo\n",
      "1    0.997194\n",
      "0    0.002806\n",
      "Name: anomaly, dtype: float64\n"
     ]
    }
   ],
   "source": [
    "# Get an overview on how many anomaly comments \n",
    "print('Beijing')\n",
    "beijing_reviews, beijing_reviews_groupby     = clean_dataset(beijing_reviews)\n",
    "print('Hong Kong')\n",
    "hongkong_reviews, hongkong_reviews_groupby   = clean_dataset(hongkong_reviews)\n",
    "print('Singapore')\n",
    "singapore_reviews, singapore_reviews_groupby = clean_dataset(singapore_reviews)\n",
    "print('Taipei')\n",
    "taipei_reviews, taipei_reviews_groupby       = clean_dataset(taipei_reviews)\n",
    "print('Tokyo')\n",
    "tokyo_reviews, tokyo_reviews_groupby         = clean_dataset(tokyo_reviews)"
   ]
  },
  {
   "cell_type": "code",
   "execution_count": 10,
   "metadata": {},
   "outputs": [
    {
     "name": "stdout",
     "output_type": "stream",
     "text": [
      "Beijing\n"
     ]
    },
    {
     "data": {
      "image/png": "[encoded data removed]",
      "text/plain": [
       "<Figure size 792x396 with 2 Axes>"
      ]
     },
     "metadata": {
      "needs_background": "light"
     },
     "output_type": "display_data"
    }
   ],
   "source": [
    "print(\"Beijing\")\n",
    "plot_graph(beijing_reviews_groupby)"
   ]
  },
  {
   "cell_type": "code",
   "execution_count": 11,
   "metadata": {},
   "outputs": [
    {
     "name": "stdout",
     "output_type": "stream",
     "text": [
      "Hong Kong\n"
     ]
    },
    {
     "data": {
      "image/png": "[encoded data removed]",
      "text/plain": [
       "<Figure size 792x396 with 2 Axes>"
      ]
     },
     "metadata": {
      "needs_background": "light"
     },
     "output_type": "display_data"
    }
   ],
   "source": [
    "# in comparison with hong kong\n",
    "# quickly realize that hong kong might not be the best due to the political riot\n",
    "print(\"Hong Kong\")\n",
    "plot_graph(hongkong_reviews_groupby)"
   ]
  },
  {
   "cell_type": "code",
   "execution_count": 12,
   "metadata": {},
   "outputs": [
    {
     "name": "stdout",
     "output_type": "stream",
     "text": [
      "Singapore\n"
     ]
    },
    {
     "data": {
      "image/png": "[encoded data removed]",
      "text/plain": [
       "<Figure size 792x396 with 2 Axes>"
      ]
     },
     "metadata": {
      "needs_background": "light"
     },
     "output_type": "display_data"
    }
   ],
   "source": [
    "print(\"Singapore\")\n",
    "plot_graph(singapore_reviews_groupby)"
   ]
  },
  {
   "cell_type": "code",
   "execution_count": 13,
   "metadata": {},
   "outputs": [
    {
     "name": "stdout",
     "output_type": "stream",
     "text": [
      "Taipei\n"
     ]
    },
    {
     "data": {
      "image/png": "[encoded data removed]",
      "text/plain": [
       "<Figure size 792x396 with 2 Axes>"
      ]
     },
     "metadata": {
      "needs_background": "light"
     },
     "output_type": "display_data"
    }
   ],
   "source": [
    "print(\"Taipei\")\n",
    "plot_graph(taipei_reviews_groupby)"
   ]
  },
  {
   "cell_type": "markdown",
   "metadata": {},
   "source": [
    "- It's pretty obvious that Airbnb is clearly focusing on expanding the Airbnb China community and it's achieving a significant success."
   ]
  },
  {
   "cell_type": "markdown",
   "metadata": {},
   "source": [
    "## Task 2 - Dig Deeper into Airbnb China"
   ]
  },
  {
   "cell_type": "markdown",
   "metadata": {},
   "source": [
    "- Observation : Different languages in the comment section.\n",
    "- Assumption  : Users from different countries leave comments using their native language."
   ]
  },
  {
   "cell_type": "code",
   "execution_count": 14,
   "metadata": {},
   "outputs": [],
   "source": [
    "def language_detection(texts):\n",
    "    if re.search(\"[\\u4e00-\\u9FFF]\", texts):\n",
    "        return \"zh\" # Chinese\n",
    "    if re.search(\"[\\uac00-\\ud7a3]\", texts) or re.search(\"[\\u3040-\\u30ff]\", texts):\n",
    "        return \"ko/ja\" # Korean / Japanese\n",
    "    if re.search(\"[\\u0000-\\u0080]\", texts):\n",
    "        return \"eng\" # English\n",
    "    return \"others\"\n",
    "\n",
    "def language_breakdown(name, dataset):\n",
    "    dataset['language'] = dataset['comments'].apply(language_detection)\n",
    "    dataset = dataset[dataset['language'] != \"others\"]\n",
    "    dataset = dataset.reset_index(drop=True)\n",
    "    print(dataset['language'].value_counts())\n",
    "    dataset_groupby_language = dataset.groupby(['year', 'month', 'language']).comments.count()\n",
    "    dataset_groupby_language = dataset_groupby_language.to_frame('count')\n",
    "    dataset_groupby_language = pd.pivot_table(dataset_groupby_language, index=['year', 'month'], columns=['language'],fill_value=0)\n",
    "    dataset_groupby_language.to_csv(str(name + \"_language.csv\"))"
   ]
  },
  {
   "cell_type": "code",
   "execution_count": 15,
   "metadata": {},
   "outputs": [
    {
     "name": "stdout",
     "output_type": "stream",
     "text": [
      "Beijing: \n",
      "zh       227713\n",
      "eng       19969\n",
      "ko/ja       595\n",
      "Name: language, dtype: int64\n",
      "None\n",
      "\n",
      "Hong Kong: \n",
      "eng      82156\n",
      "zh       67260\n",
      "ko/ja     4485\n",
      "Name: language, dtype: int64\n",
      "None\n",
      "\n",
      "Singapore: \n",
      "eng      60118\n",
      "zh        8107\n",
      "ko/ja     1136\n",
      "Name: language, dtype: int64\n",
      "None\n",
      "\n",
      "Taipei: \n",
      "zh       131150\n",
      "eng       94956\n",
      "ko/ja     10120\n",
      "Name: language, dtype: int64\n",
      "None\n",
      "\n",
      "Tokyo: \n",
      "eng      192803\n",
      "zh        79687\n",
      "ko/ja     13052\n",
      "Name: language, dtype: int64\n",
      "None\n"
     ]
    }
   ],
   "source": [
    "print(\"Beijing: \")\n",
    "print(language_breakdown('beijing', beijing_reviews))\n",
    "print(\"\\nHong Kong: \")\n",
    "print(language_breakdown('hongkong', hongkong_reviews))\n",
    "print(\"\\nSingapore: \")\n",
    "print(language_breakdown('singapore', singapore_reviews))\n",
    "print(\"\\nTaipei: \")\n",
    "print(language_breakdown('taipei', taipei_reviews))\n",
    "print(\"\\nTokyo: \")\n",
    "print(language_breakdown('tokyo', tokyo_reviews))"
   ]
  },
  {
   "cell_type": "markdown",
   "metadata": {},
   "source": [
    "- So, if we were to look closely at those numbers, we will quickly realize that Beijing comes in last place when it comes to a combination of both (English + Korean/Japanese) comments. ~20K in combination, while the rest of the countries has more than 60K at least. <br><br>\n",
    "\n",
    "- Decided to just use Hong Kong and Taiwan in comparison with Beijing due to the similarity in demographic."
   ]
  },
  {
   "cell_type": "code",
   "execution_count": 16,
   "metadata": {},
   "outputs": [],
   "source": [
    "# Construct 2 simple CSV files based on the new files that we've created.\n",
    "\n",
    "chinese_2019 = pd.read_csv(\"chinese_comments.csv\", index_col='Month')\n",
    "foreign_2019 = pd.read_csv(\"foreign_comments.csv\", index_col='Month')"
   ]
  },
  {
   "cell_type": "code",
   "execution_count": 17,
   "metadata": {},
   "outputs": [
    {
     "data": {
      "image/png": "[encoded data removed]",
      "text/plain": [
       "<Figure size 864x396 with 1 Axes>"
      ]
     },
     "metadata": {
      "needs_background": "light"
     },
     "output_type": "display_data"
    }
   ],
   "source": [
    "colors = ['indianred', 'silver', 'darkgray']\n",
    "plt_chinese = chinese_2019.plot.bar(align='center', color=colors, \\\n",
    "                                    figsize=(12,5.5), rot=0, width=0.8,fontsize=13, \\\n",
    "                                    title=\"Number of Mandarin Comments (Y2019)\")"
   ]
  },
  {
   "cell_type": "code",
   "execution_count": 18,
   "metadata": {},
   "outputs": [
    {
     "data": {
      "image/png": "[encoded data removed]",
      "text/plain": [
       "<Figure size 936x396 with 1 Axes>"
      ]
     },
     "metadata": {
      "needs_background": "light"
     },
     "output_type": "display_data"
    }
   ],
   "source": [
    "plt_foreign = foreign_2019.plot.bar(align='center', color=colors, \\\n",
    "                                    figsize=(13,5.5), rot=0, width=0.8, fontsize=13, \\\n",
    "                                    title=\"Number of English + Japanese + Korean Comments (Y2019)\")"
   ]
  },
  {
   "cell_type": "code",
   "execution_count": null,
   "metadata": {},
   "outputs": [],
   "source": []
  }
 ],
 "metadata": {
  "kernelspec": {
   "display_name": "Python 3",
   "language": "python",
   "name": "python3"
  },
  "language_info": {
   "codemirror_mode": {
    "name": "ipython",
    "version": 3
   },
   "file_extension": ".py",
   "mimetype": "text/x-python",
   "name": "python",
   "nbconvert_exporter": "python",
   "pygments_lexer": "ipython3",
   "version": "3.7.2"
  }
 },
 "nbformat": 4,
 "nbformat_minor": 2
}
