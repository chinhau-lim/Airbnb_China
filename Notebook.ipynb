{
 "cells": [
  {
   "cell_type": "code",
   "execution_count": 1,
   "metadata": {},
   "outputs": [],
   "source": [
    "# Import Libraries\n",
    "\n",
    "%matplotlib inline \n",
    "\n",
    "import re\n",
    "import numpy as np\n",
    "import pandas as pd\n",
    "import seaborn as sns\n",
    "import pandas_profiling\n",
    "import matplotlib.pyplot as plt"
   ]
  },
  {
   "cell_type": "code",
   "execution_count": 8,
   "metadata": {},
   "outputs": [],
   "source": [
    "# Import Reviews dataset\n",
    "\n",
    "beijing_reviews   = pd.read_csv('beijing_reviews.csv')\n",
    "hongkong_reviews  = pd.read_csv('hongkong_reviews.csv')\n",
    "singapore_reviews = pd.read_csv('singapore_reviews.csv')\n",
    "taipei_reviews    = pd.read_csv('taipei_reviews.csv')\n",
    "tokyo_reviews     = pd.read_csv('tokyo_reviews.csv')"
   ]
  },
  {
   "cell_type": "code",
   "execution_count": 9,
   "metadata": {},
   "outputs": [],
   "source": [
    "def clean_dataset(dataset):\n",
    "    '''Clean dataset and return two different dataframes.'''\n",
    "    # drop null values (negligible)\n",
    "    dataset = dataset[dataset['comments'].notnull() & dataset['reviewer_name'].notnull()]\n",
    "    dataset = dataset[dataset['date'] >= '2018-01-01']\n",
    "    dataset['year'] = pd.DatetimeIndex(dataset['date']).year\n",
    "    dataset['month'] = pd.DatetimeIndex(dataset['date']).month\n",
    "    dataset = dataset.sort_values(by=['date'], ascending=False)\n",
    "    dataset['anomaly'] = dataset.comments.str.find('The host canceled this reservation')\n",
    "    dataset['anomaly'].replace({-1: 1}, inplace=True)\n",
    "    print(dataset['anomaly'].value_counts()) # just wanted to figure out what it looks like\n",
    "    dataset = dataset[dataset['anomaly'] != 0]\n",
    "    dataset = dataset.drop(columns=['anomaly'])\n",
    "    dataset = dataset.reset_index(drop=True)\n",
    "    dataset_groupby = dataset.groupby(['year', 'month'])\n",
    "    dataset_groupby = dataset_groupby['comments'].count()\n",
    "    dataset_groupby = dataset_groupby.to_frame('count')\n",
    "    dataset_groupby.reset_index(inplace=True)\n",
    "    return dataset, dataset_groupby"
   ]
  },
  {
   "cell_type": "code",
   "execution_count": 4,
   "metadata": {},
   "outputs": [],
   "source": [
    "def plot_graph(dataset_groupby):\n",
    "    graph = sns.FacetGrid(dataset_groupby, col=\"year\", col_order=[2018, 2019], height=5.5, aspect=1)\n",
    "    def plot(*args,**kwargs):\n",
    "        kwargs[\"data\"].plot(kind=\"bar\", x=\"month\", y=\"count\", ax=plt.gca(), color=\"lightslategray\")\n",
    "    graph.map_dataframe(plot)\n",
    "    graph.set_xlabels('Months', fontsize=12, ha='center')\n",
    "    graph.set_ylabels('Comments Count', fontsize=12, ha='center')\n",
    "    graph.fig.suptitle('Beijing Chinese Comments Count by Months (2018 VS 2019)', fontsize=14, ha='center')\n",
    "    plt.subplots_adjust(top=0.89)\n",
    "    plt.savefig('comments.png')\n",
    "    plt.show()"
   ]
  },
  {
   "cell_type": "code",
   "execution_count": 5,
   "metadata": {},
   "outputs": [],
   "source": [
    "def language_detection(texts):\n",
    "    if re.search(\"[\\u4e00-\\u9FFF]\", texts):\n",
    "        return \"zh\"\n",
    "    if re.search(\"[\\uac00-\\ud7a3]\", texts) or re.search(\"[\\u3040-\\u30ff]\", texts):\n",
    "        return \"ko/ja\"\n",
    "    if re.search(\"[\\u0000-\\u0080]\", texts):\n",
    "        return \"eng\"\n",
    "    return \"others\""
   ]
  },
  {
   "cell_type": "code",
   "execution_count": 6,
   "metadata": {},
   "outputs": [],
   "source": [
    "def language_breakdown(name, dataset):\n",
    "    dataset['language'] = dataset['comments'].apply(language_detection)\n",
    "    #dataset = dataset[dataset['language'] != \"others\"]\n",
    "    dataset = dataset.reset_index(drop=True)\n",
    "    print(dataset['language'].value_counts())\n",
    "    dataset_groupby_language = dataset.groupby(['year', 'month', 'language']).comments.count()\n",
    "    dataset_groupby_language = dataset_groupby_language.to_frame('count')\n",
    "    dataset_groupby_language = pd.pivot_table(dataset_groupby_language, index=['year', 'month'], columns=['language'],fill_value=0)\n",
    "    dataset_groupby_language.to_csv(str(name + \"_language.csv\"))"
   ]
  },
  {
   "cell_type": "code",
   "execution_count": 10,
   "metadata": {
    "scrolled": true
   },
   "outputs": [
    {
     "name": "stdout",
     "output_type": "stream",
     "text": [
      "Beijing\n",
      "1    248393\n",
      "0      2369\n",
      "Name: anomaly, dtype: int64\n",
      "Hong Kong\n",
      "1    153973\n",
      "0      1560\n",
      "Name: anomaly, dtype: int64\n",
      "Singapore\n",
      "1    69382\n",
      "0      697\n",
      "Name: anomaly, dtype: int64\n",
      "Taipei\n",
      "1    236338\n",
      "0       693\n",
      "Name: anomaly, dtype: int64\n",
      "Tokyo\n",
      "1    285691\n",
      "0       804\n",
      "Name: anomaly, dtype: int64\n"
     ]
    }
   ],
   "source": [
    "# Get an overview on how many anomaly comments \n",
    "print('Beijing')\n",
    "beijing_reviews, beijing_reviews_groupby     = clean_dataset(beijing_reviews)\n",
    "print('Hong Kong')\n",
    "hongkong_reviews, hongkong_reviews_groupby   = clean_dataset(hongkong_reviews)\n",
    "print('Singapore')\n",
    "singapore_reviews, singapore_reviews_groupby = clean_dataset(singapore_reviews)\n",
    "print('Taipei')\n",
    "taipei_reviews, taipei_reviews_groupby       = clean_dataset(taipei_reviews)\n",
    "print('Tokyo')\n",
    "tokyo_reviews, tokyo_reviews_groupby         = clean_dataset(tokyo_reviews)"
   ]
  },
  {
   "cell_type": "code",
   "execution_count": 46,
   "metadata": {},
   "outputs": [
    {
     "data": {
      "text/html": [
       "<div>\n",
       "<style scoped>\n",
       "    .dataframe tbody tr th:only-of-type {\n",
       "        vertical-align: middle;\n",
       "    }\n",
       "\n",
       "    .dataframe tbody tr th {\n",
       "        vertical-align: top;\n",
       "    }\n",
       "\n",
       "    .dataframe thead th {\n",
       "        text-align: right;\n",
       "    }\n",
       "</style>\n",
       "<table border=\"1\" class=\"dataframe\">\n",
       "  <thead>\n",
       "    <tr style=\"text-align: right;\">\n",
       "      <th></th>\n",
       "      <th>year</th>\n",
       "      <th>month</th>\n",
       "      <th>count</th>\n",
       "    </tr>\n",
       "  </thead>\n",
       "  <tbody>\n",
       "    <tr>\n",
       "      <th>0</th>\n",
       "      <td>2018</td>\n",
       "      <td>1</td>\n",
       "      <td>3210</td>\n",
       "    </tr>\n",
       "    <tr>\n",
       "      <th>1</th>\n",
       "      <td>2018</td>\n",
       "      <td>2</td>\n",
       "      <td>2568</td>\n",
       "    </tr>\n",
       "    <tr>\n",
       "      <th>2</th>\n",
       "      <td>2018</td>\n",
       "      <td>3</td>\n",
       "      <td>1182</td>\n",
       "    </tr>\n",
       "    <tr>\n",
       "      <th>3</th>\n",
       "      <td>2018</td>\n",
       "      <td>4</td>\n",
       "      <td>4066</td>\n",
       "    </tr>\n",
       "    <tr>\n",
       "      <th>4</th>\n",
       "      <td>2018</td>\n",
       "      <td>5</td>\n",
       "      <td>4656</td>\n",
       "    </tr>\n",
       "    <tr>\n",
       "      <th>5</th>\n",
       "      <td>2018</td>\n",
       "      <td>6</td>\n",
       "      <td>4957</td>\n",
       "    </tr>\n",
       "    <tr>\n",
       "      <th>6</th>\n",
       "      <td>2018</td>\n",
       "      <td>7</td>\n",
       "      <td>6097</td>\n",
       "    </tr>\n",
       "    <tr>\n",
       "      <th>7</th>\n",
       "      <td>2018</td>\n",
       "      <td>8</td>\n",
       "      <td>7558</td>\n",
       "    </tr>\n",
       "    <tr>\n",
       "      <th>8</th>\n",
       "      <td>2018</td>\n",
       "      <td>9</td>\n",
       "      <td>6353</td>\n",
       "    </tr>\n",
       "    <tr>\n",
       "      <th>9</th>\n",
       "      <td>2018</td>\n",
       "      <td>10</td>\n",
       "      <td>7478</td>\n",
       "    </tr>\n",
       "  </tbody>\n",
       "</table>\n",
       "</div>"
      ],
      "text/plain": [
       "   year  month  count\n",
       "0  2018      1   3210\n",
       "1  2018      2   2568\n",
       "2  2018      3   1182\n",
       "3  2018      4   4066\n",
       "4  2018      5   4656\n",
       "5  2018      6   4957\n",
       "6  2018      7   6097\n",
       "7  2018      8   7558\n",
       "8  2018      9   6353\n",
       "9  2018     10   7478"
      ]
     },
     "execution_count": 46,
     "metadata": {},
     "output_type": "execute_result"
    }
   ],
   "source": [
    "temp = pd.read_csv('input.csv')\n",
    "temp.head(10)"
   ]
  },
  {
   "cell_type": "code",
   "execution_count": 54,
   "metadata": {},
   "outputs": [
    {
     "data": {
      "image/png": "[encoded data removed]",
      "text/plain": [
       "<Figure size 792x396 with 2 Axes>"
      ]
     },
     "metadata": {
      "needs_background": "light"
     },
     "output_type": "display_data"
    }
   ],
   "source": [
    "plot_graph(temp)"
   ]
  },
  {
   "cell_type": "code",
   "execution_count": 14,
   "metadata": {},
   "outputs": [
    {
     "name": "stdout",
     "output_type": "stream",
     "text": [
      "Beijing -\n"
     ]
    },
    {
     "data": {
      "image/png": "[encoded data removed]",
      "text/plain": [
       "<Figure size 792x396 with 2 Axes>"
      ]
     },
     "metadata": {
      "needs_background": "light"
     },
     "output_type": "display_data"
    }
   ],
   "source": [
    "print('Beijing -')\n",
    "plot_graph(beijing_reviews_groupby)"
   ]
  },
  {
   "cell_type": "code",
   "execution_count": 15,
   "metadata": {},
   "outputs": [
    {
     "name": "stdout",
     "output_type": "stream",
     "text": [
      "Hong Kong -\n"
     ]
    },
    {
     "data": {
      "image/png": "[encoded data removed]",
      "text/plain": [
       "<Figure size 792x396 with 2 Axes>"
      ]
     },
     "metadata": {
      "needs_background": "light"
     },
     "output_type": "display_data"
    }
   ],
   "source": [
    "print('Hong Kong -')\n",
    "plot_graph(hongkong_reviews_groupby)"
   ]
  },
  {
   "cell_type": "code",
   "execution_count": 16,
   "metadata": {},
   "outputs": [
    {
     "name": "stdout",
     "output_type": "stream",
     "text": [
      "Singapore -\n"
     ]
    },
    {
     "data": {
      "image/png": "[encoded data removed]",
      "text/plain": [
       "<Figure size 792x396 with 2 Axes>"
      ]
     },
     "metadata": {
      "needs_background": "light"
     },
     "output_type": "display_data"
    }
   ],
   "source": [
    "print('Singapore -')\n",
    "plot_graph(singapore_reviews_groupby)"
   ]
  },
  {
   "cell_type": "code",
   "execution_count": 17,
   "metadata": {},
   "outputs": [
    {
     "name": "stdout",
     "output_type": "stream",
     "text": [
      "Taipei -\n"
     ]
    },
    {
     "data": {
      "image/png": "[encoded data removed]",
      "text/plain": [
       "<Figure size 792x396 with 2 Axes>"
      ]
     },
     "metadata": {
      "needs_background": "light"
     },
     "output_type": "display_data"
    }
   ],
   "source": [
    "print('Taipei -')\n",
    "plot_graph(taipei_reviews_groupby)"
   ]
  },
  {
   "cell_type": "code",
   "execution_count": 18,
   "metadata": {},
   "outputs": [
    {
     "name": "stdout",
     "output_type": "stream",
     "text": [
      "Tokyo -\n"
     ]
    },
    {
     "data": {
      "image/png": "[encoded data removed]",
      "text/plain": [
       "<Figure size 792x396 with 2 Axes>"
      ]
     },
     "metadata": {
      "needs_background": "light"
     },
     "output_type": "display_data"
    }
   ],
   "source": [
    "print('Tokyo -')\n",
    "plot_graph(tokyo_reviews_groupby)"
   ]
  },
  {
   "cell_type": "code",
   "execution_count": 8,
   "metadata": {
    "scrolled": true
   },
   "outputs": [
    {
     "name": "stdout",
     "output_type": "stream",
     "text": [
      "<class 'pandas.core.frame.DataFrame'>\n",
      "RangeIndex: 248393 entries, 0 to 248392\n",
      "Data columns (total 8 columns):\n",
      "listing_id       248393 non-null int64\n",
      "id               248393 non-null int64\n",
      "date             248393 non-null object\n",
      "reviewer_id      248393 non-null int64\n",
      "reviewer_name    248393 non-null object\n",
      "comments         248393 non-null object\n",
      "year             248393 non-null int64\n",
      "month            248393 non-null int64\n",
      "dtypes: int64(5), object(3)\n",
      "memory usage: 15.2+ MB\n",
      "None\n",
      "   listing_id         id        date  reviewer_id reviewer_name  \\\n",
      "0     6767658  568861601  2019-11-25    211598454            京山   \n",
      "1    33185003  568863008  2019-11-25    309853029           Wei   \n",
      "2    36018736  568874948  2019-11-25     34526793          Samy   \n",
      "3    35900713  568772562  2019-11-24    235218014            杨馨   \n",
      "4    28024968  568809448  2019-11-24    295367291     Chaoliang   \n",
      "5    28020453  568810175  2019-11-24    310788385           Zck   \n",
      "6    38938246  568074499  2019-11-24     22970505         Joyce   \n",
      "7    31631554  568770225  2019-11-24    169457751             鑫   \n",
      "8    39512512  568814460  2019-11-24    311715406           李学通   \n",
      "9    39191459  568815354  2019-11-24    297381520          LeeY   \n",
      "\n",
      "                                            comments  year  month  \n",
      "0                                                 不错  2019     11  \n",
      "1  We had a great time at Lynn’s place. The locat...  2019     11  \n",
      "2  This place is ideal if you want great value at...  2019     11  \n",
      "3  房间很干净,环境也不错,房东回复问题很及时,地方也挺好找的,就是我睡觉偏晚,今天有事又起的早...  2019     11  \n",
      "4  房东很热情!有问必答,还推荐了很多好吃好玩的地方｡房间很温馨温暖,智能马桶真的太感动了!客厅...  2019     11  \n",
      "5              老板娘人超好 帮忙布置求婚和订了小蛋糕 房间各方面都很好 暖气热水都很足!  2019     11  \n",
      "6  The biggest advantage of this place is the loc...  2019     11  \n",
      "7                                                挺好的  2019     11  \n",
      "8  楼下停车很方便,跟着房东小姐姐“寻宝图”一样的路线指引很快就到了｡物品齐全,还能洗衣服做饭,...  2019     11  \n",
      "9                                     已经是第二次入住了,非常推荐  2019     11  \n"
     ]
    }
   ],
   "source": [
    "dataset_details(beijing_reviews)"
   ]
  },
  {
   "cell_type": "code",
   "execution_count": 22,
   "metadata": {},
   "outputs": [
    {
     "name": "stdout",
     "output_type": "stream",
     "text": [
      "zh        227713\n",
      "eng        19969\n",
      "ko/ja        595\n",
      "others       116\n",
      "Name: language, dtype: int64\n",
      "done.\n"
     ]
    }
   ],
   "source": [
    "print(language_breakdown('beijing', beijing_reviews))\n",
    "print(language_breakdown('hongkong', hongkong_reviews))"
   ]
  },
  {
   "cell_type": "code",
   "execution_count": 25,
   "metadata": {},
   "outputs": [
    {
     "name": "stdout",
     "output_type": "stream",
     "text": [
      "eng       82156\n",
      "zh        67260\n",
      "ko/ja      4485\n",
      "others       72\n",
      "Name: language, dtype: int64\n",
      "done.\n"
     ]
    }
   ],
   "source": [
    "language_breakdown('hongkong', hongkong_reviews)"
   ]
  },
  {
   "cell_type": "code",
   "execution_count": 23,
   "metadata": {},
   "outputs": [
    {
     "name": "stdout",
     "output_type": "stream",
     "text": [
      "eng       60118\n",
      "zh         8107\n",
      "ko/ja      1136\n",
      "others       21\n",
      "Name: language, dtype: int64\n",
      "done.\n"
     ]
    }
   ],
   "source": [
    "language_breakdown('singapore', singapore_reviews)"
   ]
  },
  {
   "cell_type": "code",
   "execution_count": 24,
   "metadata": {},
   "outputs": [
    {
     "name": "stdout",
     "output_type": "stream",
     "text": [
      "zh        131150\n",
      "eng        94956\n",
      "ko/ja      10120\n",
      "others       112\n",
      "Name: language, dtype: int64\n",
      "done.\n"
     ]
    }
   ],
   "source": [
    "language_breakdown('taipei', taipei_reviews)"
   ]
  },
  {
   "cell_type": "code",
   "execution_count": 26,
   "metadata": {},
   "outputs": [
    {
     "name": "stdout",
     "output_type": "stream",
     "text": [
      "eng       192803\n",
      "zh         79687\n",
      "ko/ja      13052\n",
      "others       149\n",
      "Name: language, dtype: int64\n",
      "done.\n"
     ]
    }
   ],
   "source": [
    "language_breakdown('tokyo', tokyo_reviews)"
   ]
  },
  {
   "cell_type": "code",
   "execution_count": null,
   "metadata": {},
   "outputs": [],
   "source": [
    "beijing_reviews['anomaly'] = beijing_reviews.comments.str.find('The host canceled this reservation')\n",
    "print(beijing_reviews['anomaly'].value_counts())\n",
    "\n",
    "beijing_reviews.loc[beijing_reviews.anomaly == 0]\n",
    "beijing_reviews = beijing_reviews[beijing_reviews['anomaly'] != 0]\n",
    "beijing_reviews = beijing_reviews.drop(columns=['anomaly'])\n",
    "beijing_reviews = beijing_reviews.reset_index(drop=True)\n",
    "beijing_reviews.info()"
   ]
  },
  {
   "cell_type": "code",
   "execution_count": 19,
   "metadata": {},
   "outputs": [],
   "source": [
    "beijing_reviews   = beijing_reviews[beijing_reviews['comments'].notnull() & beijing_reviews['reviewer_name'].notnull()]\n",
    "hongkong_reviews  = hongkong_reviews[hongkong_reviews['comments'].notnull() & hongkong_reviews['reviewer_name'].notnull()]\n",
    "singapore_reviews = singapore_reviews[singapore_reviews['comments'].notnull() & singapore_reviews['reviewer_name'].notnull()]\n",
    "taipei_reviews    = taipei_reviews[taipei_reviews['comments'].notnull() & taipei_reviews['reviewer_name'].notnull()]\n",
    "tokyo_reviews     = tokyo_reviews[tokyo_reviews['comments'].notnull() & tokyo_reviews['reviewer_name'].notnull()]"
   ]
  },
  {
   "cell_type": "code",
   "execution_count": 20,
   "metadata": {},
   "outputs": [
    {
     "name": "stdout",
     "output_type": "stream",
     "text": [
      "<class 'pandas.core.frame.DataFrame'>\n",
      "Int64Index: 293796 entries, 0 to 294002\n",
      "Data columns (total 6 columns):\n",
      "listing_id       293796 non-null int64\n",
      "id               293796 non-null int64\n",
      "date             293796 non-null object\n",
      "reviewer_id      293796 non-null int64\n",
      "reviewer_name    293796 non-null object\n",
      "comments         293796 non-null object\n",
      "dtypes: int64(3), object(3)\n",
      "memory usage: 15.7+ MB\n"
     ]
    }
   ],
   "source": [
    "beijing_reviews.info()"
   ]
  },
  {
   "cell_type": "code",
   "execution_count": 21,
   "metadata": {},
   "outputs": [
    {
     "name": "stdout",
     "output_type": "stream",
     "text": [
      "<class 'pandas.core.frame.DataFrame'>\n",
      "Int64Index: 253126 entries, 0 to 253300\n",
      "Data columns (total 6 columns):\n",
      "listing_id       253126 non-null int64\n",
      "id               253126 non-null int64\n",
      "date             253126 non-null object\n",
      "reviewer_id      253126 non-null int64\n",
      "reviewer_name    253126 non-null object\n",
      "comments         253126 non-null object\n",
      "dtypes: int64(3), object(3)\n",
      "memory usage: 13.5+ MB\n"
     ]
    }
   ],
   "source": [
    "hongkong_reviews.info()"
   ]
  },
  {
   "cell_type": "code",
   "execution_count": 22,
   "metadata": {},
   "outputs": [
    {
     "name": "stdout",
     "output_type": "stream",
     "text": [
      "<class 'pandas.core.frame.DataFrame'>\n",
      "Int64Index: 107223 entries, 0 to 107321\n",
      "Data columns (total 6 columns):\n",
      "listing_id       107223 non-null int64\n",
      "id               107223 non-null int64\n",
      "date             107223 non-null object\n",
      "reviewer_id      107223 non-null int64\n",
      "reviewer_name    107223 non-null object\n",
      "comments         107223 non-null object\n",
      "dtypes: int64(3), object(3)\n",
      "memory usage: 5.7+ MB\n"
     ]
    }
   ],
   "source": [
    "singapore_reviews.info()"
   ]
  },
  {
   "cell_type": "code",
   "execution_count": 23,
   "metadata": {},
   "outputs": [
    {
     "name": "stdout",
     "output_type": "stream",
     "text": [
      "<class 'pandas.core.frame.DataFrame'>\n",
      "Int64Index: 360836 entries, 0 to 361421\n",
      "Data columns (total 6 columns):\n",
      "listing_id       360836 non-null int64\n",
      "id               360836 non-null int64\n",
      "date             360836 non-null object\n",
      "reviewer_id      360836 non-null int64\n",
      "reviewer_name    360836 non-null object\n",
      "comments         360836 non-null object\n",
      "dtypes: int64(3), object(3)\n",
      "memory usage: 19.3+ MB\n"
     ]
    }
   ],
   "source": [
    "taipei_reviews.info()"
   ]
  },
  {
   "cell_type": "code",
   "execution_count": 24,
   "metadata": {},
   "outputs": [
    {
     "name": "stdout",
     "output_type": "stream",
     "text": [
      "<class 'pandas.core.frame.DataFrame'>\n",
      "Int64Index: 373096 entries, 0 to 373342\n",
      "Data columns (total 6 columns):\n",
      "listing_id       373096 non-null int64\n",
      "id               373096 non-null int64\n",
      "date             373096 non-null object\n",
      "reviewer_id      373096 non-null int64\n",
      "reviewer_name    373096 non-null object\n",
      "comments         373096 non-null object\n",
      "dtypes: int64(3), object(3)\n",
      "memory usage: 19.9+ MB\n"
     ]
    }
   ],
   "source": [
    "tokyo_reviews.info()"
   ]
  },
  {
   "cell_type": "code",
   "execution_count": 32,
   "metadata": {},
   "outputs": [],
   "source": [
    "beijing_reviews   = beijing_reviews.sort_values(by=['date'], ascending=False)\n",
    "beijing_reviews['year'] = pd.DatetimeIndex(beijing_reviews['date']).year\n",
    "beijing_reviews['month'] = pd.DatetimeIndex(beijing_reviews['date']).month\n",
    "beijing_reviews = beijing_reviews[beijing_reviews['date'] >= '2018-01-01']\n",
    "beijing_reviews = beijing_reviews.reset_index(drop=True)"
   ]
  },
  {
   "cell_type": "code",
   "execution_count": 33,
   "metadata": {},
   "outputs": [
    {
     "data": {
      "text/html": [
       "<div>\n",
       "<style scoped>\n",
       "    .dataframe tbody tr th:only-of-type {\n",
       "        vertical-align: middle;\n",
       "    }\n",
       "\n",
       "    .dataframe tbody tr th {\n",
       "        vertical-align: top;\n",
       "    }\n",
       "\n",
       "    .dataframe thead th {\n",
       "        text-align: right;\n",
       "    }\n",
       "</style>\n",
       "<table border=\"1\" class=\"dataframe\">\n",
       "  <thead>\n",
       "    <tr style=\"text-align: right;\">\n",
       "      <th></th>\n",
       "      <th>listing_id</th>\n",
       "      <th>id</th>\n",
       "      <th>date</th>\n",
       "      <th>reviewer_id</th>\n",
       "      <th>reviewer_name</th>\n",
       "      <th>comments</th>\n",
       "      <th>year</th>\n",
       "      <th>month</th>\n",
       "    </tr>\n",
       "  </thead>\n",
       "  <tbody>\n",
       "    <tr>\n",
       "      <th>0</th>\n",
       "      <td>40193462</td>\n",
       "      <td>568893890</td>\n",
       "      <td>2019-11-25</td>\n",
       "      <td>311590047</td>\n",
       "      <td>悠悠默默</td>\n",
       "      <td>The host canceled this reservation 4 days befo...</td>\n",
       "      <td>2019</td>\n",
       "      <td>11</td>\n",
       "    </tr>\n",
       "    <tr>\n",
       "      <th>1</th>\n",
       "      <td>33185003</td>\n",
       "      <td>568863008</td>\n",
       "      <td>2019-11-25</td>\n",
       "      <td>309853029</td>\n",
       "      <td>Wei</td>\n",
       "      <td>We had a great time at Lynn’s place. The locat...</td>\n",
       "      <td>2019</td>\n",
       "      <td>11</td>\n",
       "    </tr>\n",
       "    <tr>\n",
       "      <th>2</th>\n",
       "      <td>36018736</td>\n",
       "      <td>568874948</td>\n",
       "      <td>2019-11-25</td>\n",
       "      <td>34526793</td>\n",
       "      <td>Samy</td>\n",
       "      <td>This place is ideal if you want great value at...</td>\n",
       "      <td>2019</td>\n",
       "      <td>11</td>\n",
       "    </tr>\n",
       "    <tr>\n",
       "      <th>3</th>\n",
       "      <td>6767658</td>\n",
       "      <td>568861601</td>\n",
       "      <td>2019-11-25</td>\n",
       "      <td>211598454</td>\n",
       "      <td>京山</td>\n",
       "      <td>不错</td>\n",
       "      <td>2019</td>\n",
       "      <td>11</td>\n",
       "    </tr>\n",
       "    <tr>\n",
       "      <th>4</th>\n",
       "      <td>35639524</td>\n",
       "      <td>568794292</td>\n",
       "      <td>2019-11-24</td>\n",
       "      <td>311715402</td>\n",
       "      <td>Daisy</td>\n",
       "      <td>房东很热情负责,房间干净整洁,性价比高,带独立卫生间,很棒｡我经常去北京,各方面对比还是首选...</td>\n",
       "      <td>2019</td>\n",
       "      <td>11</td>\n",
       "    </tr>\n",
       "    <tr>\n",
       "      <th>5</th>\n",
       "      <td>35474876</td>\n",
       "      <td>568800205</td>\n",
       "      <td>2019-11-24</td>\n",
       "      <td>266931084</td>\n",
       "      <td>丹红</td>\n",
       "      <td>交通便利,周边就有超市,饭店!房东很热情,性价比超高!</td>\n",
       "      <td>2019</td>\n",
       "      <td>11</td>\n",
       "    </tr>\n",
       "    <tr>\n",
       "      <th>6</th>\n",
       "      <td>25415273</td>\n",
       "      <td>568777602</td>\n",
       "      <td>2019-11-24</td>\n",
       "      <td>228377484</td>\n",
       "      <td>伞海</td>\n",
       "      <td>很好的一次入住体验,从家具到生活用具一应俱全,投屏的效果也很好,因为有会员所以可以看好多好多...</td>\n",
       "      <td>2019</td>\n",
       "      <td>11</td>\n",
       "    </tr>\n",
       "    <tr>\n",
       "      <th>7</th>\n",
       "      <td>31350853</td>\n",
       "      <td>568803884</td>\n",
       "      <td>2019-11-24</td>\n",
       "      <td>308452094</td>\n",
       "      <td>义报</td>\n",
       "      <td>距离地铁站很近,房间干净整齐,环境安静｡整体非常满意｡和房东描述一致,房东人超级好,特别满意...</td>\n",
       "      <td>2019</td>\n",
       "      <td>11</td>\n",
       "    </tr>\n",
       "    <tr>\n",
       "      <th>8</th>\n",
       "      <td>35536723</td>\n",
       "      <td>568799434</td>\n",
       "      <td>2019-11-24</td>\n",
       "      <td>305795112</td>\n",
       "      <td>张小白</td>\n",
       "      <td>位置很不错,距离地铁很近,对于出差的人来说很方便｡</td>\n",
       "      <td>2019</td>\n",
       "      <td>11</td>\n",
       "    </tr>\n",
       "    <tr>\n",
       "      <th>9</th>\n",
       "      <td>39936067</td>\n",
       "      <td>568773681</td>\n",
       "      <td>2019-11-24</td>\n",
       "      <td>309914757</td>\n",
       "      <td>聚灬颓废</td>\n",
       "      <td>房间很好,采光也很好,老小区很安静｡是个不错的居所</td>\n",
       "      <td>2019</td>\n",
       "      <td>11</td>\n",
       "    </tr>\n",
       "  </tbody>\n",
       "</table>\n",
       "</div>"
      ],
      "text/plain": [
       "   listing_id         id        date  reviewer_id reviewer_name  \\\n",
       "0    40193462  568893890  2019-11-25    311590047          悠悠默默   \n",
       "1    33185003  568863008  2019-11-25    309853029           Wei   \n",
       "2    36018736  568874948  2019-11-25     34526793          Samy   \n",
       "3     6767658  568861601  2019-11-25    211598454            京山   \n",
       "4    35639524  568794292  2019-11-24    311715402         Daisy   \n",
       "5    35474876  568800205  2019-11-24    266931084            丹红   \n",
       "6    25415273  568777602  2019-11-24    228377484            伞海   \n",
       "7    31350853  568803884  2019-11-24    308452094            义报   \n",
       "8    35536723  568799434  2019-11-24    305795112           张小白   \n",
       "9    39936067  568773681  2019-11-24    309914757          聚灬颓废   \n",
       "\n",
       "                                            comments  year  month  \n",
       "0  The host canceled this reservation 4 days befo...  2019     11  \n",
       "1  We had a great time at Lynn’s place. The locat...  2019     11  \n",
       "2  This place is ideal if you want great value at...  2019     11  \n",
       "3                                                 不错  2019     11  \n",
       "4  房东很热情负责,房间干净整洁,性价比高,带独立卫生间,很棒｡我经常去北京,各方面对比还是首选...  2019     11  \n",
       "5                        交通便利,周边就有超市,饭店!房东很热情,性价比超高!  2019     11  \n",
       "6  很好的一次入住体验,从家具到生活用具一应俱全,投屏的效果也很好,因为有会员所以可以看好多好多...  2019     11  \n",
       "7  距离地铁站很近,房间干净整齐,环境安静｡整体非常满意｡和房东描述一致,房东人超级好,特别满意...  2019     11  \n",
       "8                          位置很不错,距离地铁很近,对于出差的人来说很方便｡  2019     11  \n",
       "9                          房间很好,采光也很好,老小区很安静｡是个不错的居所  2019     11  "
      ]
     },
     "execution_count": 33,
     "metadata": {},
     "output_type": "execute_result"
    }
   ],
   "source": [
    "beijing_reviews.head(10)"
   ]
  },
  {
   "cell_type": "code",
   "execution_count": 40,
   "metadata": {},
   "outputs": [
    {
     "name": "stdout",
     "output_type": "stream",
     "text": [
      "-1    248393\n",
      "Name: anomaly, dtype: int64\n"
     ]
    },
    {
     "data": {
      "text/html": [
       "<div>\n",
       "<style scoped>\n",
       "    .dataframe tbody tr th:only-of-type {\n",
       "        vertical-align: middle;\n",
       "    }\n",
       "\n",
       "    .dataframe tbody tr th {\n",
       "        vertical-align: top;\n",
       "    }\n",
       "\n",
       "    .dataframe thead th {\n",
       "        text-align: right;\n",
       "    }\n",
       "</style>\n",
       "<table border=\"1\" class=\"dataframe\">\n",
       "  <thead>\n",
       "    <tr style=\"text-align: right;\">\n",
       "      <th></th>\n",
       "      <th>listing_id</th>\n",
       "      <th>id</th>\n",
       "      <th>date</th>\n",
       "      <th>reviewer_id</th>\n",
       "      <th>reviewer_name</th>\n",
       "      <th>comments</th>\n",
       "      <th>year</th>\n",
       "      <th>month</th>\n",
       "      <th>anomaly</th>\n",
       "    </tr>\n",
       "  </thead>\n",
       "  <tbody>\n",
       "  </tbody>\n",
       "</table>\n",
       "</div>"
      ],
      "text/plain": [
       "Empty DataFrame\n",
       "Columns: [listing_id, id, date, reviewer_id, reviewer_name, comments, year, month, anomaly]\n",
       "Index: []"
      ]
     },
     "execution_count": 40,
     "metadata": {},
     "output_type": "execute_result"
    }
   ],
   "source": [
    "beijing_reviews['anomaly'] = beijing_reviews.comments.str.find('The host canceled this reservation')\n",
    "print(beijing_reviews['anomaly'].value_counts())\n",
    "\n",
    "beijing_reviews.loc[beijing_reviews.anomaly == 0]\n",
    "beijing_reviews = beijing_reviews[beijing_reviews['anomaly'] != 0]\n",
    "beijing_reviews = beijing_reviews.drop(columns=['anomaly'])\n",
    "beijing_reviews = beijing_reviews.reset_index(drop=True)\n",
    "beijing_reviews.info()"
   ]
  },
  {
   "cell_type": "code",
   "execution_count": 42,
   "metadata": {},
   "outputs": [
    {
     "name": "stdout",
     "output_type": "stream",
     "text": [
      "<class 'pandas.core.frame.DataFrame'>\n",
      "RangeIndex: 248393 entries, 0 to 248392\n",
      "Data columns (total 8 columns):\n",
      "listing_id       248393 non-null int64\n",
      "id               248393 non-null int64\n",
      "date             248393 non-null object\n",
      "reviewer_id      248393 non-null int64\n",
      "reviewer_name    248393 non-null object\n",
      "comments         248393 non-null object\n",
      "year             248393 non-null int64\n",
      "month            248393 non-null int64\n",
      "dtypes: int64(5), object(3)\n",
      "memory usage: 15.2+ MB\n"
     ]
    }
   ],
   "source": [
    "beijing_reviews = beijing_reviews[beijing_reviews['anomaly'] != 0]\n",
    "beijing_reviews = beijing_reviews.drop(columns=['anomaly'])\n",
    "beijing_reviews = beijing_reviews.reset_index(drop=True)\n",
    "beijing_reviews.info()"
   ]
  },
  {
   "cell_type": "code",
   "execution_count": 44,
   "metadata": {},
   "outputs": [
    {
     "name": "stdout",
     "output_type": "stream",
     "text": [
      "year  month\n",
      "2018  1         3633\n",
      "      2         2868\n",
      "      3         1492\n",
      "      4         4807\n",
      "      5         5434\n",
      "      6         5734\n",
      "      7         6972\n",
      "      8         8401\n",
      "      9         7218\n",
      "      10        8331\n",
      "      11        6649\n",
      "      12        7788\n",
      "2019  1         9400\n",
      "      2         8949\n",
      "      3        12512\n",
      "      4        15168\n",
      "      5        16754\n",
      "      6        17594\n",
      "      7        19994\n",
      "      8        23426\n",
      "      9        18244\n",
      "      10       23516\n",
      "      11       13509\n",
      "Name: comments, dtype: int64\n"
     ]
    }
   ],
   "source": [
    "beijing_reviews_groupby = beijing_reviews.groupby(['year', 'month'])\n",
    "beijing_reviews_groupby = beijing_reviews_groupby['comments'].count()\n",
    "print(beijing_reviews_groupby)\n",
    "beijing_reviews_groupby = beijing_reviews_groupby.to_frame('count')\n",
    "beijing_reviews_groupby.reset_index(inplace=True)"
   ]
  },
  {
   "cell_type": "code",
   "execution_count": 49,
   "metadata": {},
   "outputs": [
    {
     "data": {
      "image/png": "[encoded data removed]",
      "text/plain": [
       "<Figure size 792x396 with 2 Axes>"
      ]
     },
     "metadata": {
      "needs_background": "light"
     },
     "output_type": "display_data"
    }
   ],
   "source": [
    "graph = sns.FacetGrid(beijing_reviews_groupby, col=\"year\", col_order=[2018, 2019], height=5.5, aspect=1)\n",
    "def plot(*args,**kwargs):\n",
    "    kwargs[\"data\"].plot(kind=\"bar\", x=\"month\", y=\"count\", ax=plt.gca(), color=\"lightslategray\")\n",
    "graph.map_dataframe(plot)\n",
    "graph.set_xlabels('Months', fontsize=12, ha='center')\n",
    "graph.set_ylabels('Comments Count', fontsize=12, ha='center')\n",
    "graph.fig.suptitle('Bei Jing, China - Comments Count by Months (2018 VS 2019)', fontsize=14, ha='center')\n",
    "plt.subplots_adjust(top=0.89)\n",
    "plt.show()"
   ]
  },
  {
   "cell_type": "code",
   "execution_count": 27,
   "metadata": {},
   "outputs": [
    {
     "data": {
      "text/html": [
       "<div>\n",
       "<style scoped>\n",
       "    .dataframe tbody tr th:only-of-type {\n",
       "        vertical-align: middle;\n",
       "    }\n",
       "\n",
       "    .dataframe tbody tr th {\n",
       "        vertical-align: top;\n",
       "    }\n",
       "\n",
       "    .dataframe thead th {\n",
       "        text-align: right;\n",
       "    }\n",
       "</style>\n",
       "<table border=\"1\" class=\"dataframe\">\n",
       "  <thead>\n",
       "    <tr style=\"text-align: right;\">\n",
       "      <th></th>\n",
       "      <th>listing_id</th>\n",
       "      <th>id</th>\n",
       "      <th>date</th>\n",
       "      <th>reviewer_id</th>\n",
       "      <th>reviewer_name</th>\n",
       "      <th>comments</th>\n",
       "    </tr>\n",
       "  </thead>\n",
       "  <tbody>\n",
       "    <tr>\n",
       "      <th>0</th>\n",
       "      <td>69074</td>\n",
       "      <td>181973</td>\n",
       "      <td>2011-02-14</td>\n",
       "      <td>358597</td>\n",
       "      <td>Chi Yan</td>\n",
       "      <td>Lovely apartment in a great location that quic...</td>\n",
       "    </tr>\n",
       "    <tr>\n",
       "      <th>1</th>\n",
       "      <td>69074</td>\n",
       "      <td>252237</td>\n",
       "      <td>2011-05-05</td>\n",
       "      <td>467243</td>\n",
       "      <td>Doreen</td>\n",
       "      <td>As a former resident of HK, I can say that Amy...</td>\n",
       "    </tr>\n",
       "    <tr>\n",
       "      <th>2</th>\n",
       "      <td>69074</td>\n",
       "      <td>400484</td>\n",
       "      <td>2011-07-27</td>\n",
       "      <td>696753</td>\n",
       "      <td>Michael</td>\n",
       "      <td>I stayed in this Apt for about 12 days. Such a...</td>\n",
       "    </tr>\n",
       "    <tr>\n",
       "      <th>3</th>\n",
       "      <td>69074</td>\n",
       "      <td>411022</td>\n",
       "      <td>2011-08-01</td>\n",
       "      <td>40901</td>\n",
       "      <td>Donna</td>\n",
       "      <td>Amy's cute, comfortable apartment is in the he...</td>\n",
       "    </tr>\n",
       "    <tr>\n",
       "      <th>4</th>\n",
       "      <td>69074</td>\n",
       "      <td>497498</td>\n",
       "      <td>2011-09-03</td>\n",
       "      <td>341618</td>\n",
       "      <td>Melissa</td>\n",
       "      <td>Amy was the perfect host - extremely communica...</td>\n",
       "    </tr>\n",
       "    <tr>\n",
       "      <th>5</th>\n",
       "      <td>69074</td>\n",
       "      <td>538628</td>\n",
       "      <td>2011-09-17</td>\n",
       "      <td>544594</td>\n",
       "      <td>Lee</td>\n",
       "      <td>Amy's apartment is really cozy and well appoin...</td>\n",
       "    </tr>\n",
       "    <tr>\n",
       "      <th>6</th>\n",
       "      <td>69074</td>\n",
       "      <td>554405</td>\n",
       "      <td>2011-09-21</td>\n",
       "      <td>949163</td>\n",
       "      <td>Elisa &amp; JP</td>\n",
       "      <td>Amy's flat is so lovely, you really feel like ...</td>\n",
       "    </tr>\n",
       "    <tr>\n",
       "      <th>7</th>\n",
       "      <td>69074</td>\n",
       "      <td>569952</td>\n",
       "      <td>2011-09-26</td>\n",
       "      <td>1037045</td>\n",
       "      <td>Arun</td>\n",
       "      <td>We stay from Sept 20 to 25, 2011 for HK gems f...</td>\n",
       "    </tr>\n",
       "    <tr>\n",
       "      <th>8</th>\n",
       "      <td>69074</td>\n",
       "      <td>619873</td>\n",
       "      <td>2011-10-11</td>\n",
       "      <td>748874</td>\n",
       "      <td>Jessica</td>\n",
       "      <td>I had a wonderful stay @Amy's lovely apartment...</td>\n",
       "    </tr>\n",
       "    <tr>\n",
       "      <th>9</th>\n",
       "      <td>69074</td>\n",
       "      <td>728812</td>\n",
       "      <td>2011-11-18</td>\n",
       "      <td>1344180</td>\n",
       "      <td>Stefan</td>\n",
       "      <td>Had an excellent stay. Better than any hotel o...</td>\n",
       "    </tr>\n",
       "  </tbody>\n",
       "</table>\n",
       "</div>"
      ],
      "text/plain": [
       "   listing_id      id        date  reviewer_id reviewer_name  \\\n",
       "0       69074  181973  2011-02-14       358597       Chi Yan   \n",
       "1       69074  252237  2011-05-05       467243        Doreen   \n",
       "2       69074  400484  2011-07-27       696753       Michael   \n",
       "3       69074  411022  2011-08-01        40901         Donna   \n",
       "4       69074  497498  2011-09-03       341618       Melissa   \n",
       "5       69074  538628  2011-09-17       544594           Lee   \n",
       "6       69074  554405  2011-09-21       949163    Elisa & JP   \n",
       "7       69074  569952  2011-09-26      1037045          Arun   \n",
       "8       69074  619873  2011-10-11       748874       Jessica   \n",
       "9       69074  728812  2011-11-18      1344180        Stefan   \n",
       "\n",
       "                                            comments  \n",
       "0  Lovely apartment in a great location that quic...  \n",
       "1  As a former resident of HK, I can say that Amy...  \n",
       "2  I stayed in this Apt for about 12 days. Such a...  \n",
       "3  Amy's cute, comfortable apartment is in the he...  \n",
       "4  Amy was the perfect host - extremely communica...  \n",
       "5  Amy's apartment is really cozy and well appoin...  \n",
       "6  Amy's flat is so lovely, you really feel like ...  \n",
       "7  We stay from Sept 20 to 25, 2011 for HK gems f...  \n",
       "8  I had a wonderful stay @Amy's lovely apartment...  \n",
       "9  Had an excellent stay. Better than any hotel o...  "
      ]
     },
     "execution_count": 27,
     "metadata": {},
     "output_type": "execute_result"
    }
   ],
   "source": [
    "hongkong_reviews.head(10)"
   ]
  },
  {
   "cell_type": "code",
   "execution_count": 50,
   "metadata": {},
   "outputs": [
    {
     "data": {
      "text/html": [
       "<div>\n",
       "<style scoped>\n",
       "    .dataframe tbody tr th:only-of-type {\n",
       "        vertical-align: middle;\n",
       "    }\n",
       "\n",
       "    .dataframe tbody tr th {\n",
       "        vertical-align: top;\n",
       "    }\n",
       "\n",
       "    .dataframe thead th {\n",
       "        text-align: right;\n",
       "    }\n",
       "</style>\n",
       "<table border=\"1\" class=\"dataframe\">\n",
       "  <thead>\n",
       "    <tr style=\"text-align: right;\">\n",
       "      <th></th>\n",
       "      <th>listing_id</th>\n",
       "      <th>id</th>\n",
       "      <th>date</th>\n",
       "      <th>reviewer_id</th>\n",
       "      <th>reviewer_name</th>\n",
       "      <th>comments</th>\n",
       "      <th>year</th>\n",
       "      <th>month</th>\n",
       "    </tr>\n",
       "  </thead>\n",
       "  <tbody>\n",
       "    <tr>\n",
       "      <th>0</th>\n",
       "      <td>1634794</td>\n",
       "      <td>566320627</td>\n",
       "      <td>2019-11-19</td>\n",
       "      <td>27580259</td>\n",
       "      <td>Haifeng</td>\n",
       "      <td>留下最深刻印象的,是房東的開誠､熱忱､坦率與文明,完全符合外人對於一位精英香港本地人的預期｡...</td>\n",
       "      <td>2019</td>\n",
       "      <td>11</td>\n",
       "    </tr>\n",
       "    <tr>\n",
       "      <th>1</th>\n",
       "      <td>21289471</td>\n",
       "      <td>566308328</td>\n",
       "      <td>2019-11-19</td>\n",
       "      <td>178567206</td>\n",
       "      <td>Nara</td>\n",
       "      <td>The host canceled this reservation 11 days bef...</td>\n",
       "      <td>2019</td>\n",
       "      <td>11</td>\n",
       "    </tr>\n",
       "    <tr>\n",
       "      <th>2</th>\n",
       "      <td>29864411</td>\n",
       "      <td>566309762</td>\n",
       "      <td>2019-11-19</td>\n",
       "      <td>27209400</td>\n",
       "      <td>Ginnie</td>\n",
       "      <td>The apartment is in a good location, very cent...</td>\n",
       "      <td>2019</td>\n",
       "      <td>11</td>\n",
       "    </tr>\n",
       "    <tr>\n",
       "      <th>3</th>\n",
       "      <td>22088298</td>\n",
       "      <td>566340210</td>\n",
       "      <td>2019-11-19</td>\n",
       "      <td>2336199</td>\n",
       "      <td>Witold</td>\n",
       "      <td>Clean, easy check in and perfect location. My ...</td>\n",
       "      <td>2019</td>\n",
       "      <td>11</td>\n",
       "    </tr>\n",
       "    <tr>\n",
       "      <th>4</th>\n",
       "      <td>18142109</td>\n",
       "      <td>566325270</td>\n",
       "      <td>2019-11-19</td>\n",
       "      <td>103958645</td>\n",
       "      <td>Kin Mun</td>\n",
       "      <td>Clean,great location,fast respond</td>\n",
       "      <td>2019</td>\n",
       "      <td>11</td>\n",
       "    </tr>\n",
       "    <tr>\n",
       "      <th>5</th>\n",
       "      <td>26196050</td>\n",
       "      <td>566379968</td>\n",
       "      <td>2019-11-19</td>\n",
       "      <td>124344355</td>\n",
       "      <td>Sabrina</td>\n",
       "      <td>The host canceled this reservation 45 days bef...</td>\n",
       "      <td>2019</td>\n",
       "      <td>11</td>\n",
       "    </tr>\n",
       "    <tr>\n",
       "      <th>6</th>\n",
       "      <td>26196050</td>\n",
       "      <td>566380140</td>\n",
       "      <td>2019-11-19</td>\n",
       "      <td>101376178</td>\n",
       "      <td>Adri</td>\n",
       "      <td>The host canceled this reservation 31 days bef...</td>\n",
       "      <td>2019</td>\n",
       "      <td>11</td>\n",
       "    </tr>\n",
       "    <tr>\n",
       "      <th>7</th>\n",
       "      <td>37276458</td>\n",
       "      <td>566427958</td>\n",
       "      <td>2019-11-19</td>\n",
       "      <td>196623324</td>\n",
       "      <td>Harold</td>\n",
       "      <td>The host canceled this reservation 13 days bef...</td>\n",
       "      <td>2019</td>\n",
       "      <td>11</td>\n",
       "    </tr>\n",
       "    <tr>\n",
       "      <th>8</th>\n",
       "      <td>21289471</td>\n",
       "      <td>566308349</td>\n",
       "      <td>2019-11-19</td>\n",
       "      <td>37357042</td>\n",
       "      <td>Sharon</td>\n",
       "      <td>The host canceled this reservation 36 days bef...</td>\n",
       "      <td>2019</td>\n",
       "      <td>11</td>\n",
       "    </tr>\n",
       "    <tr>\n",
       "      <th>9</th>\n",
       "      <td>10262454</td>\n",
       "      <td>566323441</td>\n",
       "      <td>2019-11-19</td>\n",
       "      <td>142271037</td>\n",
       "      <td>Colleen</td>\n",
       "      <td>Excellent host! Gave me perfect directions fro...</td>\n",
       "      <td>2019</td>\n",
       "      <td>11</td>\n",
       "    </tr>\n",
       "  </tbody>\n",
       "</table>\n",
       "</div>"
      ],
      "text/plain": [
       "   listing_id         id        date  reviewer_id reviewer_name  \\\n",
       "0     1634794  566320627  2019-11-19     27580259       Haifeng   \n",
       "1    21289471  566308328  2019-11-19    178567206          Nara   \n",
       "2    29864411  566309762  2019-11-19     27209400        Ginnie   \n",
       "3    22088298  566340210  2019-11-19      2336199        Witold   \n",
       "4    18142109  566325270  2019-11-19    103958645       Kin Mun   \n",
       "5    26196050  566379968  2019-11-19    124344355       Sabrina   \n",
       "6    26196050  566380140  2019-11-19    101376178          Adri   \n",
       "7    37276458  566427958  2019-11-19    196623324        Harold   \n",
       "8    21289471  566308349  2019-11-19     37357042        Sharon   \n",
       "9    10262454  566323441  2019-11-19    142271037       Colleen   \n",
       "\n",
       "                                            comments  year  month  \n",
       "0  留下最深刻印象的,是房東的開誠､熱忱､坦率與文明,完全符合外人對於一位精英香港本地人的預期｡...  2019     11  \n",
       "1  The host canceled this reservation 11 days bef...  2019     11  \n",
       "2  The apartment is in a good location, very cent...  2019     11  \n",
       "3  Clean, easy check in and perfect location. My ...  2019     11  \n",
       "4                  Clean,great location,fast respond  2019     11  \n",
       "5  The host canceled this reservation 45 days bef...  2019     11  \n",
       "6  The host canceled this reservation 31 days bef...  2019     11  \n",
       "7  The host canceled this reservation 13 days bef...  2019     11  \n",
       "8  The host canceled this reservation 36 days bef...  2019     11  \n",
       "9  Excellent host! Gave me perfect directions fro...  2019     11  "
      ]
     },
     "execution_count": 50,
     "metadata": {},
     "output_type": "execute_result"
    }
   ],
   "source": [
    "hongkong_reviews   = hongkong_reviews.sort_values(by=['date'], ascending=False)\n",
    "hongkong_reviews['year'] = pd.DatetimeIndex(hongkong_reviews['date']).year\n",
    "hongkong_reviews['month'] = pd.DatetimeIndex(hongkong_reviews['date']).month\n",
    "hongkong_reviews = hongkong_reviews[hongkong_reviews['date'] >= '2018-01-01']\n",
    "hongkong_reviews = hongkong_reviews.reset_index(drop=True)\n",
    "hongkong_reviews.head(10)"
   ]
  },
  {
   "cell_type": "code",
   "execution_count": 51,
   "metadata": {},
   "outputs": [
    {
     "name": "stdout",
     "output_type": "stream",
     "text": [
      "-1    153973\n",
      " 0      1560\n",
      "Name: anomaly, dtype: int64\n",
      "<class 'pandas.core.frame.DataFrame'>\n",
      "RangeIndex: 153973 entries, 0 to 153972\n",
      "Data columns (total 8 columns):\n",
      "listing_id       153973 non-null int64\n",
      "id               153973 non-null int64\n",
      "date             153973 non-null object\n",
      "reviewer_id      153973 non-null int64\n",
      "reviewer_name    153973 non-null object\n",
      "comments         153973 non-null object\n",
      "year             153973 non-null int64\n",
      "month            153973 non-null int64\n",
      "dtypes: int64(5), object(3)\n",
      "memory usage: 9.4+ MB\n"
     ]
    }
   ],
   "source": [
    "hongkong_reviews['anomaly'] = hongkong_reviews.comments.str.find('The host canceled this reservation')\n",
    "print(hongkong_reviews['anomaly'].value_counts())\n",
    "\n",
    "hongkong_reviews.loc[hongkong_reviews.anomaly == 0]\n",
    "hongkong_reviews = hongkong_reviews[hongkong_reviews['anomaly'] != 0]\n",
    "hongkong_reviews = hongkong_reviews.drop(columns=['anomaly'])\n",
    "hongkong_reviews = hongkong_reviews.reset_index(drop=True)\n",
    "hongkong_reviews.info()"
   ]
  },
  {
   "cell_type": "code",
   "execution_count": 52,
   "metadata": {},
   "outputs": [
    {
     "name": "stdout",
     "output_type": "stream",
     "text": [
      "year  month\n",
      "2018  1        5494\n",
      "      2        4691\n",
      "      3        5018\n",
      "      4        6198\n",
      "      5        5136\n",
      "      6        5273\n",
      "      7        6589\n",
      "      8        7680\n",
      "      9        5749\n",
      "      10       7977\n",
      "      11       8262\n",
      "      12       8475\n",
      "2019  1        9140\n",
      "      2        8579\n",
      "      3        9421\n",
      "      4        9282\n",
      "      5        9199\n",
      "      6        7735\n",
      "      7        7844\n",
      "      8        5530\n",
      "      9        3881\n",
      "      10       5105\n",
      "      11       1715\n",
      "Name: comments, dtype: int64\n"
     ]
    }
   ],
   "source": [
    "hongkong_reviews_groupby = hongkong_reviews.groupby(['year', 'month'])\n",
    "hongkong_reviews_groupby = hongkong_reviews_groupby['comments'].count()\n",
    "print(hongkong_reviews_groupby)\n",
    "hongkong_reviews_groupby = hongkong_reviews_groupby.to_frame('count')\n",
    "hongkong_reviews_groupby.reset_index(inplace=True)"
   ]
  },
  {
   "cell_type": "code",
   "execution_count": 54,
   "metadata": {},
   "outputs": [
    {
     "data": {
      "image/png": "[encoded data removed]",
      "text/plain": [
       "<Figure size 792x396 with 2 Axes>"
      ]
     },
     "metadata": {
      "needs_background": "light"
     },
     "output_type": "display_data"
    }
   ],
   "source": [
    "graph = sns.FacetGrid(hongkong_reviews_groupby, col=\"year\", col_order=[2018, 2019], height=5.5, aspect=1)\n",
    "def plot(*args,**kwargs):\n",
    "    kwargs[\"data\"].plot(kind=\"bar\", x=\"month\", y=\"count\", ax=plt.gca(), color=\"lightslategray\")\n",
    "graph.map_dataframe(plot)\n",
    "graph.set_xlabels('Months', fontsize=12, ha='center')\n",
    "graph.set_ylabels('Comments Count', fontsize=12, ha='center')\n",
    "graph.fig.suptitle('Hong Kong, China - Comments Count by Months (2018 VS 2019)', fontsize=14, ha='center')\n",
    "plt.subplots_adjust(top=0.89)\n",
    "plt.show()"
   ]
  },
  {
   "cell_type": "code",
   "execution_count": 28,
   "metadata": {},
   "outputs": [
    {
     "data": {
      "text/html": [
       "<div>\n",
       "<style scoped>\n",
       "    .dataframe tbody tr th:only-of-type {\n",
       "        vertical-align: middle;\n",
       "    }\n",
       "\n",
       "    .dataframe tbody tr th {\n",
       "        vertical-align: top;\n",
       "    }\n",
       "\n",
       "    .dataframe thead th {\n",
       "        text-align: right;\n",
       "    }\n",
       "</style>\n",
       "<table border=\"1\" class=\"dataframe\">\n",
       "  <thead>\n",
       "    <tr style=\"text-align: right;\">\n",
       "      <th></th>\n",
       "      <th>listing_id</th>\n",
       "      <th>id</th>\n",
       "      <th>date</th>\n",
       "      <th>reviewer_id</th>\n",
       "      <th>reviewer_name</th>\n",
       "      <th>comments</th>\n",
       "    </tr>\n",
       "  </thead>\n",
       "  <tbody>\n",
       "    <tr>\n",
       "      <th>0</th>\n",
       "      <td>49091</td>\n",
       "      <td>8243238</td>\n",
       "      <td>2013-10-21</td>\n",
       "      <td>8557223</td>\n",
       "      <td>Jared</td>\n",
       "      <td>Fran was absolutely gracious and welcoming. Ma...</td>\n",
       "    </tr>\n",
       "    <tr>\n",
       "      <th>1</th>\n",
       "      <td>50646</td>\n",
       "      <td>11909864</td>\n",
       "      <td>2014-04-18</td>\n",
       "      <td>1356099</td>\n",
       "      <td>James</td>\n",
       "      <td>A comfortable room in a smart condo developmen...</td>\n",
       "    </tr>\n",
       "    <tr>\n",
       "      <th>2</th>\n",
       "      <td>50646</td>\n",
       "      <td>13823948</td>\n",
       "      <td>2014-06-05</td>\n",
       "      <td>15222393</td>\n",
       "      <td>Welli</td>\n",
       "      <td>Stayed over at Sujatha's house for 3 good nigh...</td>\n",
       "    </tr>\n",
       "    <tr>\n",
       "      <th>3</th>\n",
       "      <td>50646</td>\n",
       "      <td>15117222</td>\n",
       "      <td>2014-07-02</td>\n",
       "      <td>5543172</td>\n",
       "      <td>Cyril</td>\n",
       "      <td>It's been a lovely stay at Sujatha's. The room...</td>\n",
       "    </tr>\n",
       "    <tr>\n",
       "      <th>4</th>\n",
       "      <td>50646</td>\n",
       "      <td>15426462</td>\n",
       "      <td>2014-07-08</td>\n",
       "      <td>817532</td>\n",
       "      <td>Jake</td>\n",
       "      <td>We had a great experience. A nice place, an am...</td>\n",
       "    </tr>\n",
       "    <tr>\n",
       "      <th>5</th>\n",
       "      <td>50646</td>\n",
       "      <td>15552912</td>\n",
       "      <td>2014-07-11</td>\n",
       "      <td>10942382</td>\n",
       "      <td>Subba</td>\n",
       "      <td>Quiet condo. Comfortable stay and good location.</td>\n",
       "    </tr>\n",
       "    <tr>\n",
       "      <th>6</th>\n",
       "      <td>50646</td>\n",
       "      <td>15884470</td>\n",
       "      <td>2014-07-17</td>\n",
       "      <td>17569265</td>\n",
       "      <td>Claire</td>\n",
       "      <td>Nice room and friendly stay. Kindely and smili...</td>\n",
       "    </tr>\n",
       "    <tr>\n",
       "      <th>7</th>\n",
       "      <td>50646</td>\n",
       "      <td>16123989</td>\n",
       "      <td>2014-07-22</td>\n",
       "      <td>17188672</td>\n",
       "      <td>Hana</td>\n",
       "      <td>Suja and her husband are really nice, amazing,...</td>\n",
       "    </tr>\n",
       "    <tr>\n",
       "      <th>8</th>\n",
       "      <td>50646</td>\n",
       "      <td>16632638</td>\n",
       "      <td>2014-07-30</td>\n",
       "      <td>18067306</td>\n",
       "      <td>Liz</td>\n",
       "      <td>Sujatha is a wonderful host and gives us a lot...</td>\n",
       "    </tr>\n",
       "    <tr>\n",
       "      <th>9</th>\n",
       "      <td>50646</td>\n",
       "      <td>16729657</td>\n",
       "      <td>2014-08-01</td>\n",
       "      <td>9211315</td>\n",
       "      <td>Derrick</td>\n",
       "      <td>A wonderful experience &amp; highly recommended! S...</td>\n",
       "    </tr>\n",
       "  </tbody>\n",
       "</table>\n",
       "</div>"
      ],
      "text/plain": [
       "   listing_id        id        date  reviewer_id reviewer_name  \\\n",
       "0       49091   8243238  2013-10-21      8557223         Jared   \n",
       "1       50646  11909864  2014-04-18      1356099         James   \n",
       "2       50646  13823948  2014-06-05     15222393         Welli   \n",
       "3       50646  15117222  2014-07-02      5543172         Cyril   \n",
       "4       50646  15426462  2014-07-08       817532          Jake   \n",
       "5       50646  15552912  2014-07-11     10942382         Subba   \n",
       "6       50646  15884470  2014-07-17     17569265        Claire   \n",
       "7       50646  16123989  2014-07-22     17188672          Hana   \n",
       "8       50646  16632638  2014-07-30     18067306           Liz   \n",
       "9       50646  16729657  2014-08-01      9211315       Derrick   \n",
       "\n",
       "                                            comments  \n",
       "0  Fran was absolutely gracious and welcoming. Ma...  \n",
       "1  A comfortable room in a smart condo developmen...  \n",
       "2  Stayed over at Sujatha's house for 3 good nigh...  \n",
       "3  It's been a lovely stay at Sujatha's. The room...  \n",
       "4  We had a great experience. A nice place, an am...  \n",
       "5   Quiet condo. Comfortable stay and good location.  \n",
       "6  Nice room and friendly stay. Kindely and smili...  \n",
       "7  Suja and her husband are really nice, amazing,...  \n",
       "8  Sujatha is a wonderful host and gives us a lot...  \n",
       "9  A wonderful experience & highly recommended! S...  "
      ]
     },
     "execution_count": 28,
     "metadata": {},
     "output_type": "execute_result"
    }
   ],
   "source": [
    "singapore_reviews.head(10)"
   ]
  },
  {
   "cell_type": "code",
   "execution_count": 30,
   "metadata": {},
   "outputs": [
    {
     "data": {
      "text/html": [
       "<div>\n",
       "<style scoped>\n",
       "    .dataframe tbody tr th:only-of-type {\n",
       "        vertical-align: middle;\n",
       "    }\n",
       "\n",
       "    .dataframe tbody tr th {\n",
       "        vertical-align: top;\n",
       "    }\n",
       "\n",
       "    .dataframe thead th {\n",
       "        text-align: right;\n",
       "    }\n",
       "</style>\n",
       "<table border=\"1\" class=\"dataframe\">\n",
       "  <thead>\n",
       "    <tr style=\"text-align: right;\">\n",
       "      <th></th>\n",
       "      <th>listing_id</th>\n",
       "      <th>id</th>\n",
       "      <th>date</th>\n",
       "      <th>reviewer_id</th>\n",
       "      <th>reviewer_name</th>\n",
       "      <th>comments</th>\n",
       "    </tr>\n",
       "  </thead>\n",
       "  <tbody>\n",
       "    <tr>\n",
       "      <th>0</th>\n",
       "      <td>68396</td>\n",
       "      <td>4743816</td>\n",
       "      <td>2013-05-23</td>\n",
       "      <td>3334370</td>\n",
       "      <td>Scott</td>\n",
       "      <td>Great location ( very close to the metro stati...</td>\n",
       "    </tr>\n",
       "    <tr>\n",
       "      <th>1</th>\n",
       "      <td>68396</td>\n",
       "      <td>279164758</td>\n",
       "      <td>2018-06-20</td>\n",
       "      <td>183745170</td>\n",
       "      <td>Yamada</td>\n",
       "      <td>Very good place!!!\\n</td>\n",
       "    </tr>\n",
       "    <tr>\n",
       "      <th>2</th>\n",
       "      <td>68398</td>\n",
       "      <td>2894700</td>\n",
       "      <td>2012-11-16</td>\n",
       "      <td>3534183</td>\n",
       "      <td>Laura</td>\n",
       "      <td>I enjoyed my stay very much! Spend approx 6 we...</td>\n",
       "    </tr>\n",
       "    <tr>\n",
       "      <th>3</th>\n",
       "      <td>68398</td>\n",
       "      <td>13416072</td>\n",
       "      <td>2014-05-27</td>\n",
       "      <td>12750484</td>\n",
       "      <td>Maggie</td>\n",
       "      <td>I ended up staying in Studio B. Apartment is c...</td>\n",
       "    </tr>\n",
       "    <tr>\n",
       "      <th>4</th>\n",
       "      <td>68398</td>\n",
       "      <td>22427468</td>\n",
       "      <td>2014-11-06</td>\n",
       "      <td>21131563</td>\n",
       "      <td>Vincent</td>\n",
       "      <td>Lisa est très efficace, le logement est foncti...</td>\n",
       "    </tr>\n",
       "    <tr>\n",
       "      <th>5</th>\n",
       "      <td>68398</td>\n",
       "      <td>48514756</td>\n",
       "      <td>2015-09-27</td>\n",
       "      <td>31102107</td>\n",
       "      <td>Romney</td>\n",
       "      <td>I arrived a little early but Vincent valiantly...</td>\n",
       "    </tr>\n",
       "    <tr>\n",
       "      <th>6</th>\n",
       "      <td>68398</td>\n",
       "      <td>58001272</td>\n",
       "      <td>2015-12-31</td>\n",
       "      <td>44450239</td>\n",
       "      <td>Sheila</td>\n",
       "      <td>Our host made us feel very welcomed and was al...</td>\n",
       "    </tr>\n",
       "    <tr>\n",
       "      <th>7</th>\n",
       "      <td>68398</td>\n",
       "      <td>117113566</td>\n",
       "      <td>2016-12-04</td>\n",
       "      <td>26120062</td>\n",
       "      <td>Kathryn</td>\n",
       "      <td>Awesome location.  Cute, clean and stocked wit...</td>\n",
       "    </tr>\n",
       "    <tr>\n",
       "      <th>8</th>\n",
       "      <td>68398</td>\n",
       "      <td>431471395</td>\n",
       "      <td>2019-04-01</td>\n",
       "      <td>126013182</td>\n",
       "      <td>Ha Neul</td>\n",
       "      <td>Fair rate, clean room, comfortable bed, nice l...</td>\n",
       "    </tr>\n",
       "    <tr>\n",
       "      <th>9</th>\n",
       "      <td>74641</td>\n",
       "      <td>730893</td>\n",
       "      <td>2011-11-20</td>\n",
       "      <td>933072</td>\n",
       "      <td>Yixi</td>\n",
       "      <td>3036 is a great find. The place is newly renov...</td>\n",
       "    </tr>\n",
       "  </tbody>\n",
       "</table>\n",
       "</div>"
      ],
      "text/plain": [
       "   listing_id         id        date  reviewer_id reviewer_name  \\\n",
       "0       68396    4743816  2013-05-23      3334370         Scott   \n",
       "1       68396  279164758  2018-06-20    183745170        Yamada   \n",
       "2       68398    2894700  2012-11-16      3534183         Laura   \n",
       "3       68398   13416072  2014-05-27     12750484        Maggie   \n",
       "4       68398   22427468  2014-11-06     21131563       Vincent   \n",
       "5       68398   48514756  2015-09-27     31102107        Romney   \n",
       "6       68398   58001272  2015-12-31     44450239        Sheila   \n",
       "7       68398  117113566  2016-12-04     26120062       Kathryn   \n",
       "8       68398  431471395  2019-04-01    126013182       Ha Neul   \n",
       "9       74641     730893  2011-11-20       933072          Yixi   \n",
       "\n",
       "                                            comments  \n",
       "0  Great location ( very close to the metro stati...  \n",
       "1                               Very good place!!!\\n  \n",
       "2  I enjoyed my stay very much! Spend approx 6 we...  \n",
       "3  I ended up staying in Studio B. Apartment is c...  \n",
       "4  Lisa est très efficace, le logement est foncti...  \n",
       "5  I arrived a little early but Vincent valiantly...  \n",
       "6  Our host made us feel very welcomed and was al...  \n",
       "7  Awesome location.  Cute, clean and stocked wit...  \n",
       "8  Fair rate, clean room, comfortable bed, nice l...  \n",
       "9  3036 is a great find. The place is newly renov...  "
      ]
     },
     "execution_count": 30,
     "metadata": {},
     "output_type": "execute_result"
    }
   ],
   "source": [
    "taipei_reviews.head(10)"
   ]
  },
  {
   "cell_type": "code",
   "execution_count": 31,
   "metadata": {},
   "outputs": [
    {
     "data": {
      "text/html": [
       "<div>\n",
       "<style scoped>\n",
       "    .dataframe tbody tr th:only-of-type {\n",
       "        vertical-align: middle;\n",
       "    }\n",
       "\n",
       "    .dataframe tbody tr th {\n",
       "        vertical-align: top;\n",
       "    }\n",
       "\n",
       "    .dataframe thead th {\n",
       "        text-align: right;\n",
       "    }\n",
       "</style>\n",
       "<table border=\"1\" class=\"dataframe\">\n",
       "  <thead>\n",
       "    <tr style=\"text-align: right;\">\n",
       "      <th></th>\n",
       "      <th>listing_id</th>\n",
       "      <th>id</th>\n",
       "      <th>date</th>\n",
       "      <th>reviewer_id</th>\n",
       "      <th>reviewer_name</th>\n",
       "      <th>comments</th>\n",
       "    </tr>\n",
       "  </thead>\n",
       "  <tbody>\n",
       "    <tr>\n",
       "      <th>0</th>\n",
       "      <td>35303</td>\n",
       "      <td>810980</td>\n",
       "      <td>2011-12-28</td>\n",
       "      <td>1502908</td>\n",
       "      <td>Firuz</td>\n",
       "      <td>Miyuki's has been a great host. Helpful and ve...</td>\n",
       "    </tr>\n",
       "    <tr>\n",
       "      <th>1</th>\n",
       "      <td>35303</td>\n",
       "      <td>2467161</td>\n",
       "      <td>2012-10-01</td>\n",
       "      <td>350719</td>\n",
       "      <td>Jordan</td>\n",
       "      <td>Nice apartment in one of the best areas of Tok...</td>\n",
       "    </tr>\n",
       "    <tr>\n",
       "      <th>2</th>\n",
       "      <td>35303</td>\n",
       "      <td>3572628</td>\n",
       "      <td>2013-02-18</td>\n",
       "      <td>4917704</td>\n",
       "      <td>Aymeric</td>\n",
       "      <td>A very nice host and place. The location is in...</td>\n",
       "    </tr>\n",
       "    <tr>\n",
       "      <th>3</th>\n",
       "      <td>35303</td>\n",
       "      <td>3952097</td>\n",
       "      <td>2013-03-30</td>\n",
       "      <td>3243253</td>\n",
       "      <td>Blandine</td>\n",
       "      <td>Miyuki is the most smily face I met when I lan...</td>\n",
       "    </tr>\n",
       "    <tr>\n",
       "      <th>4</th>\n",
       "      <td>35303</td>\n",
       "      <td>4377509</td>\n",
       "      <td>2013-05-01</td>\n",
       "      <td>1536097</td>\n",
       "      <td>Kayleigh</td>\n",
       "      <td>The location's wonderful. It's close to Haraju...</td>\n",
       "    </tr>\n",
       "    <tr>\n",
       "      <th>5</th>\n",
       "      <td>35303</td>\n",
       "      <td>4594739</td>\n",
       "      <td>2013-05-14</td>\n",
       "      <td>1822025</td>\n",
       "      <td>Danielle</td>\n",
       "      <td>Miyuki was so very helpful and stayed back aft...</td>\n",
       "    </tr>\n",
       "    <tr>\n",
       "      <th>6</th>\n",
       "      <td>35303</td>\n",
       "      <td>6847361</td>\n",
       "      <td>2013-08-27</td>\n",
       "      <td>6980559</td>\n",
       "      <td>Tobias</td>\n",
       "      <td>The apartment is an affordable, simple and cen...</td>\n",
       "    </tr>\n",
       "    <tr>\n",
       "      <th>7</th>\n",
       "      <td>35303</td>\n",
       "      <td>19211289</td>\n",
       "      <td>2014-09-08</td>\n",
       "      <td>2893501</td>\n",
       "      <td>Yan</td>\n",
       "      <td>Thanks Miyuki for a great stay. \\nAs described...</td>\n",
       "    </tr>\n",
       "    <tr>\n",
       "      <th>8</th>\n",
       "      <td>35303</td>\n",
       "      <td>23170075</td>\n",
       "      <td>2014-11-24</td>\n",
       "      <td>8674085</td>\n",
       "      <td>San</td>\n",
       "      <td>It was great stay. Everything was as described...</td>\n",
       "    </tr>\n",
       "    <tr>\n",
       "      <th>9</th>\n",
       "      <td>35303</td>\n",
       "      <td>27408652</td>\n",
       "      <td>2015-03-03</td>\n",
       "      <td>27944062</td>\n",
       "      <td>Kim Seng</td>\n",
       "      <td>My first ever solo trip to Tokyo, Japan has be...</td>\n",
       "    </tr>\n",
       "  </tbody>\n",
       "</table>\n",
       "</div>"
      ],
      "text/plain": [
       "   listing_id        id        date  reviewer_id reviewer_name  \\\n",
       "0       35303    810980  2011-12-28      1502908         Firuz   \n",
       "1       35303   2467161  2012-10-01       350719        Jordan   \n",
       "2       35303   3572628  2013-02-18      4917704       Aymeric   \n",
       "3       35303   3952097  2013-03-30      3243253      Blandine   \n",
       "4       35303   4377509  2013-05-01      1536097      Kayleigh   \n",
       "5       35303   4594739  2013-05-14      1822025      Danielle   \n",
       "6       35303   6847361  2013-08-27      6980559        Tobias   \n",
       "7       35303  19211289  2014-09-08      2893501           Yan   \n",
       "8       35303  23170075  2014-11-24      8674085           San   \n",
       "9       35303  27408652  2015-03-03     27944062      Kim Seng   \n",
       "\n",
       "                                            comments  \n",
       "0  Miyuki's has been a great host. Helpful and ve...  \n",
       "1  Nice apartment in one of the best areas of Tok...  \n",
       "2  A very nice host and place. The location is in...  \n",
       "3  Miyuki is the most smily face I met when I lan...  \n",
       "4  The location's wonderful. It's close to Haraju...  \n",
       "5  Miyuki was so very helpful and stayed back aft...  \n",
       "6  The apartment is an affordable, simple and cen...  \n",
       "7  Thanks Miyuki for a great stay. \\nAs described...  \n",
       "8  It was great stay. Everything was as described...  \n",
       "9  My first ever solo trip to Tokyo, Japan has be...  "
      ]
     },
     "execution_count": 31,
     "metadata": {},
     "output_type": "execute_result"
    }
   ],
   "source": [
    "tokyo_reviews.head(10)"
   ]
  },
  {
   "cell_type": "code",
   "execution_count": 19,
   "metadata": {},
   "outputs": [],
   "source": [
    "zh_2019 = pd.read_csv(\"chinese_comments.csv\", index_col='Month')\n",
    "en_2019 = pd.read_csv(\"foreign_comments.csv\", index_col='Month')"
   ]
  },
  {
   "cell_type": "code",
   "execution_count": 20,
   "metadata": {},
   "outputs": [
    {
     "data": {
      "text/html": [
       "<div>\n",
       "<style scoped>\n",
       "    .dataframe tbody tr th:only-of-type {\n",
       "        vertical-align: middle;\n",
       "    }\n",
       "\n",
       "    .dataframe tbody tr th {\n",
       "        vertical-align: top;\n",
       "    }\n",
       "\n",
       "    .dataframe thead th {\n",
       "        text-align: right;\n",
       "    }\n",
       "</style>\n",
       "<table border=\"1\" class=\"dataframe\">\n",
       "  <thead>\n",
       "    <tr style=\"text-align: right;\">\n",
       "      <th></th>\n",
       "      <th>Beijing</th>\n",
       "      <th>Hong Kong</th>\n",
       "      <th>Taipei</th>\n",
       "    </tr>\n",
       "    <tr>\n",
       "      <th>Month</th>\n",
       "      <th></th>\n",
       "      <th></th>\n",
       "      <th></th>\n",
       "    </tr>\n",
       "  </thead>\n",
       "  <tbody>\n",
       "    <tr>\n",
       "      <th>Jan</th>\n",
       "      <td>8621</td>\n",
       "      <td>4106</td>\n",
       "      <td>5934</td>\n",
       "    </tr>\n",
       "    <tr>\n",
       "      <th>Feb</th>\n",
       "      <td>8396</td>\n",
       "      <td>4914</td>\n",
       "      <td>6758</td>\n",
       "    </tr>\n",
       "    <tr>\n",
       "      <th>Mar</th>\n",
       "      <td>11437</td>\n",
       "      <td>4113</td>\n",
       "      <td>6280</td>\n",
       "    </tr>\n",
       "    <tr>\n",
       "      <th>April</th>\n",
       "      <td>13733</td>\n",
       "      <td>3723</td>\n",
       "      <td>6635</td>\n",
       "    </tr>\n",
       "    <tr>\n",
       "      <th>May</th>\n",
       "      <td>15506</td>\n",
       "      <td>4722</td>\n",
       "      <td>7429</td>\n",
       "    </tr>\n",
       "    <tr>\n",
       "      <th>June</th>\n",
       "      <td>16261</td>\n",
       "      <td>3489</td>\n",
       "      <td>7722</td>\n",
       "    </tr>\n",
       "    <tr>\n",
       "      <th>July</th>\n",
       "      <td>18685</td>\n",
       "      <td>4000</td>\n",
       "      <td>8021</td>\n",
       "    </tr>\n",
       "    <tr>\n",
       "      <th>Aug</th>\n",
       "      <td>22186</td>\n",
       "      <td>2364</td>\n",
       "      <td>8795</td>\n",
       "    </tr>\n",
       "    <tr>\n",
       "      <th>Sept</th>\n",
       "      <td>17113</td>\n",
       "      <td>960</td>\n",
       "      <td>6017</td>\n",
       "    </tr>\n",
       "    <tr>\n",
       "      <th>Oct</th>\n",
       "      <td>22192</td>\n",
       "      <td>1347</td>\n",
       "      <td>6589</td>\n",
       "    </tr>\n",
       "    <tr>\n",
       "      <th>Nov</th>\n",
       "      <td>12672</td>\n",
       "      <td>273</td>\n",
       "      <td>4304</td>\n",
       "    </tr>\n",
       "  </tbody>\n",
       "</table>\n",
       "</div>"
      ],
      "text/plain": [
       "       Beijing  Hong Kong  Taipei\n",
       "Month                            \n",
       "Jan       8621       4106    5934\n",
       "Feb       8396       4914    6758\n",
       "Mar      11437       4113    6280\n",
       "April    13733       3723    6635\n",
       "May      15506       4722    7429\n",
       "June     16261       3489    7722\n",
       "July     18685       4000    8021\n",
       "Aug      22186       2364    8795\n",
       "Sept     17113        960    6017\n",
       "Oct      22192       1347    6589\n",
       "Nov      12672        273    4304"
      ]
     },
     "execution_count": 20,
     "metadata": {},
     "output_type": "execute_result"
    }
   ],
   "source": [
    "zh_2019"
   ]
  },
  {
   "cell_type": "code",
   "execution_count": 21,
   "metadata": {},
   "outputs": [
    {
     "data": {
      "text/html": [
       "<div>\n",
       "<style scoped>\n",
       "    .dataframe tbody tr th:only-of-type {\n",
       "        vertical-align: middle;\n",
       "    }\n",
       "\n",
       "    .dataframe tbody tr th {\n",
       "        vertical-align: top;\n",
       "    }\n",
       "\n",
       "    .dataframe thead th {\n",
       "        text-align: right;\n",
       "    }\n",
       "</style>\n",
       "<table border=\"1\" class=\"dataframe\">\n",
       "  <thead>\n",
       "    <tr style=\"text-align: right;\">\n",
       "      <th></th>\n",
       "      <th>Beijing</th>\n",
       "      <th>Hong Kong</th>\n",
       "      <th>Taipei</th>\n",
       "    </tr>\n",
       "    <tr>\n",
       "      <th>Month</th>\n",
       "      <th></th>\n",
       "      <th></th>\n",
       "      <th></th>\n",
       "    </tr>\n",
       "  </thead>\n",
       "  <tbody>\n",
       "    <tr>\n",
       "      <th>Jan</th>\n",
       "      <td>775</td>\n",
       "      <td>5028</td>\n",
       "      <td>5606</td>\n",
       "    </tr>\n",
       "    <tr>\n",
       "      <th>Feb</th>\n",
       "      <td>547</td>\n",
       "      <td>3662</td>\n",
       "      <td>3750</td>\n",
       "    </tr>\n",
       "    <tr>\n",
       "      <th>Mar</th>\n",
       "      <td>1066</td>\n",
       "      <td>5302</td>\n",
       "      <td>5867</td>\n",
       "    </tr>\n",
       "    <tr>\n",
       "      <th>April</th>\n",
       "      <td>1430</td>\n",
       "      <td>5554</td>\n",
       "      <td>5890</td>\n",
       "    </tr>\n",
       "    <tr>\n",
       "      <th>May</th>\n",
       "      <td>1243</td>\n",
       "      <td>4472</td>\n",
       "      <td>5834</td>\n",
       "    </tr>\n",
       "    <tr>\n",
       "      <th>June</th>\n",
       "      <td>1323</td>\n",
       "      <td>4241</td>\n",
       "      <td>5242</td>\n",
       "    </tr>\n",
       "    <tr>\n",
       "      <th>July</th>\n",
       "      <td>1300</td>\n",
       "      <td>3840</td>\n",
       "      <td>4833</td>\n",
       "    </tr>\n",
       "    <tr>\n",
       "      <th>Aug</th>\n",
       "      <td>1227</td>\n",
       "      <td>3162</td>\n",
       "      <td>5237</td>\n",
       "    </tr>\n",
       "    <tr>\n",
       "      <th>Sept</th>\n",
       "      <td>1124</td>\n",
       "      <td>2920</td>\n",
       "      <td>5355</td>\n",
       "    </tr>\n",
       "    <tr>\n",
       "      <th>Oct</th>\n",
       "      <td>1308</td>\n",
       "      <td>3754</td>\n",
       "      <td>7577</td>\n",
       "    </tr>\n",
       "    <tr>\n",
       "      <th>Nov</th>\n",
       "      <td>832</td>\n",
       "      <td>1442</td>\n",
       "      <td>6393</td>\n",
       "    </tr>\n",
       "  </tbody>\n",
       "</table>\n",
       "</div>"
      ],
      "text/plain": [
       "       Beijing  Hong Kong  Taipei\n",
       "Month                            \n",
       "Jan        775       5028    5606\n",
       "Feb        547       3662    3750\n",
       "Mar       1066       5302    5867\n",
       "April     1430       5554    5890\n",
       "May       1243       4472    5834\n",
       "June      1323       4241    5242\n",
       "July      1300       3840    4833\n",
       "Aug       1227       3162    5237\n",
       "Sept      1124       2920    5355\n",
       "Oct       1308       3754    7577\n",
       "Nov        832       1442    6393"
      ]
     },
     "execution_count": 21,
     "metadata": {},
     "output_type": "execute_result"
    }
   ],
   "source": [
    "en_2019"
   ]
  },
  {
   "cell_type": "code",
   "execution_count": 64,
   "metadata": {},
   "outputs": [
    {
     "data": {
      "image/png": "[encoded data removed]",
      "text/plain": [
       "<Figure size 864x396 with 1 Axes>"
      ]
     },
     "metadata": {
      "needs_background": "light"
     },
     "output_type": "display_data"
    }
   ],
   "source": [
    "colors = ['indianred', 'silver', 'darkgrey']\n",
    "plt_zh = zh_2019.plot.bar(align='center', color=colors, figsize=(12,5.5), rot=0, width=0.8,fontsize=13, title=\"Number of Mandarin Comments (Y2019)\")\n"
   ]
  },
  {
   "cell_type": "code",
   "execution_count": null,
   "metadata": {},
   "outputs": [],
   "source": []
  }
 ],
 "metadata": {
  "kernelspec": {
   "display_name": "Python 3",
   "language": "python",
   "name": "python3"
  },
  "language_info": {
   "codemirror_mode": {
    "name": "ipython",
    "version": 3
   },
   "file_extension": ".py",
   "mimetype": "text/x-python",
   "name": "python",
   "nbconvert_exporter": "python",
   "pygments_lexer": "ipython3",
   "version": "3.7.2"
  }
 },
 "nbformat": 4,
 "nbformat_minor": 2
}
